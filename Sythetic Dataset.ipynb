{
 "cells": [
  {
   "cell_type": "markdown",
   "metadata": {},
   "source": [
    "## Background"
   ]
  },
  {
   "cell_type": "markdown",
   "metadata": {},
   "source": [
    "Uncertainty is a facininating concept. It is extremely vast and applies to almost all aspects of life. You could spend your entire life learning about it and still not understand all of it.\n",
    "Uncertainty is everywhere, in everything we do. For example, uncertainty affects the economy in many ways. Peoples attitude to spending are usually based on their level of confidence in the economy. Uncertainty of our future climate drives us to recycle more, burn more efficient fuel, reduce our emmisions and respect the environment. In a sense, it is almost motivational as once we are aware of something, we typically strive to improve it.\n",
    "In science, we frequently measure or observe things. We do this so that we can understand them better. By putting a measure on something it allows us to describe something, to visualise it or to comprehend it. Humans will design an experiment or build a model to test or measure a phenomenon and uncertainty will be the measure of the doubt that exists about the result or prediction. "
   ]
  },
  {
   "cell_type": "markdown",
   "metadata": {},
   "source": [
    "## Project - Dataset"
   ]
  },
  {
   "cell_type": "markdown",
   "metadata": {},
   "source": [
    "This project will focus on the field of dimensional metrology and more specifically, measurement systems. A measurement system might be described as a system encompassing the measuring instrument, the software, firmware, people/users, environment, method and the articles that they inspect. When designing a measurement system many aspects must be considered but ultimately the system should have an acceptable accuracy and variance for what it is designed to inspect. In conjunction with this, each measurement result should be accompanied by an uncertainty value since no measurement is ever perfect. When a measurement is taken, many phenomena can occur to influence that result and generally speaking that influence could be captured in the overall uncertainty. Estimating this uncertainy, it is possible to mitigate for the risk of misclassification based off results/observations made.         "
   ]
  },
  {
   "cell_type": "markdown",
   "metadata": {},
   "source": [
    "## Scenario"
   ]
  },
  {
   "cell_type": "markdown",
   "metadata": {},
   "source": [
    "You are asked to provide consultation to an aerospace company that manufactures a component. Post manufacture it inspects each component dimensionally to ensure it meets design intent/criteria. The component itself has 4 geometric features that must be verified through inspection, each having a nominal size and an associated tolerance. A measurement system is used to inspect the components to meet volume requirements. There is an issue with this component when it comes to final assembly. It is not fitting with other components at the final assembly plant located in another country. The equipment was installed correctly, has all the necessary certified paperwork and is passing its daily qualification checks. What is going on?\n",
    "\n",
    "The brief of the project is to create a synthetic dataset. This dataset will attempt to capture what the above situation might look like (in a fairly simplistic approach with assumptions) if it were a real investigation of the measurement phenomenon and try to answer some additional questions along the way."
   ]
  },
  {
   "cell_type": "markdown",
   "metadata": {},
   "source": [
    "## Investigation"
   ]
  },
  {
   "cell_type": "markdown",
   "metadata": {},
   "source": [
    "Investigation starts with the component. It has four geometric features that are inspected. They are relatively simple in terms of geometric complexity. Two features are lengths, one is a width and other is a diameter. There are no complex surfaces or advanced geometric constraints to be inspected.\n",
    "\n",
    "The features are:\n",
    "\n",
    "length_1 is 14.010mm +/- 0.020: length_2 is 10.050mm +/- 0.050: width_1 is  50.200mm +/- 0.100: Dia_1 is 30.000mm +/- 0.070\n",
    "\n",
    "Instruments:\n",
    "\n",
    "It was found that the instrument is a coordinate measuring machines, often referred to as 'CMM's'. For now lets call it instrument_1\n",
    "It has a calibration certificate stating the equipments maximum permissable error for error of length indication. After speaking with the OEM, it is understood that this is essentially an accuracy statement for the equipment when measuring length type features.\n",
    "\n",
    "It is stated in linear type form:  MPEE  = X + L/K   where X and K are constants. (x = um, L = mm, K = no units)\n",
    "\n",
    "instrument_1 = 2.8 + L/1000 (result is in microns)\n",
    "\n",
    "\n",
    "\n",
    "The certificate shows that instrument_1 was verified but not calibrated and 2 months ago. It is noted that instrument_1 has a negative bias of 0.1mm. As it was only verified and not calibrated, no adjustment was made for this. The instrument does not exibit any other systematic errors.\n",
    "\n",
    "\n",
    "Users:\n",
    "\n",
    "Looking at user of the measurement system, It was discovered that one operator was responsible for running the system.\n",
    "\n",
    "Mary ran instrument_1 and was quite experienced. A standardised method for use of the equipment was also in place. \n",
    "\n",
    "\n",
    "Environment:\n",
    "\n",
    "instrument_1 was located in a temperature controlled room cerified at 19-21 deg C. However, the climate control was malfunctioning and the temperature was found to be at a static 25 Deg C.\n"
   ]
  },
  {
   "cell_type": "markdown",
   "metadata": {},
   "source": [
    "## Summary of Investigation"
   ]
  },
  {
   "cell_type": "markdown",
   "metadata": {},
   "source": [
    "After further investigation I decide the following:\n",
    "\n",
    "(1) I need to pull some previous data on measurements and review the results for each feature (2) I need to calculate what the likely instrument error is for measurements of each feature (3) I need to compensate for bias in the equipment (4) I need to investigate the effects of temperature (5) estimate any likely variance (6) estimate what the overall uncertainty might be and (7) analyse the data and generate any conclusions.  "
   ]
  },
  {
   "cell_type": "markdown",
   "metadata": {},
   "source": [
    "## Simulating the results from 100 components"
   ]
  },
  {
   "cell_type": "markdown",
   "metadata": {},
   "source": [
    "I would expect the results to be normally distributed for each feature. I'm going to make a few assumptions here. Having reviewed the measurment results I found that length_1 and width_1 were manufactured above centre/target nominal. The other features were relatively centred on nominal. All data should be floating point numbers and should be positive values based on the specifications above."
   ]
  },
  {
   "cell_type": "code",
   "execution_count": 15,
   "metadata": {
    "scrolled": true
   },
   "outputs": [
    {
     "data": {
      "text/html": [
       "<div>\n",
       "<style scoped>\n",
       "    .dataframe tbody tr th:only-of-type {\n",
       "        vertical-align: middle;\n",
       "    }\n",
       "\n",
       "    .dataframe tbody tr th {\n",
       "        vertical-align: top;\n",
       "    }\n",
       "\n",
       "    .dataframe thead th {\n",
       "        text-align: right;\n",
       "    }\n",
       "</style>\n",
       "<table border=\"1\" class=\"dataframe\">\n",
       "  <thead>\n",
       "    <tr style=\"text-align: right;\">\n",
       "      <th></th>\n",
       "      <th>length_1</th>\n",
       "      <th>length_2</th>\n",
       "      <th>width_1</th>\n",
       "      <th>dia_1</th>\n",
       "    </tr>\n",
       "  </thead>\n",
       "  <tbody>\n",
       "    <tr>\n",
       "      <th>0</th>\n",
       "      <td>14.021948</td>\n",
       "      <td>10.048237</td>\n",
       "      <td>50.225523</td>\n",
       "      <td>29.999987</td>\n",
       "    </tr>\n",
       "    <tr>\n",
       "      <th>1</th>\n",
       "      <td>14.023353</td>\n",
       "      <td>10.050238</td>\n",
       "      <td>50.231107</td>\n",
       "      <td>29.999963</td>\n",
       "    </tr>\n",
       "    <tr>\n",
       "      <th>2</th>\n",
       "      <td>14.030354</td>\n",
       "      <td>10.050382</td>\n",
       "      <td>50.226254</td>\n",
       "      <td>29.999998</td>\n",
       "    </tr>\n",
       "  </tbody>\n",
       "</table>\n",
       "</div>"
      ],
      "text/plain": [
       "    length_1   length_2    width_1      dia_1\n",
       "0  14.021948  10.048237  50.225523  29.999987\n",
       "1  14.023353  10.050238  50.231107  29.999963\n",
       "2  14.030354  10.050382  50.226254  29.999998"
      ]
     },
     "execution_count": 15,
     "metadata": {},
     "output_type": "execute_result"
    }
   ],
   "source": [
    "import pandas as pd\n",
    "import numpy as np\n",
    "import matplotlib.pyplot as plt\n",
    "%matplotlib inline\n",
    "\n",
    "#define the features, 100 samples each having different stdev and means\n",
    "length_1 = np.random.normal(14.011, 0.005, 100)\n",
    "length_2 = np.random.normal(10.050, 0.0004, 100)\n",
    "width_1 = np.random.normal(50.210, 0.004, 100)\n",
    "dia_1 = np.random.normal(30.000, 0.0001, 100)\n",
    "\n",
    "# type 'variable name' to view the array of data. I just don't need to see it yet\n",
    "\n",
    "df = pd.DataFrame({'length_1':np.random.normal(14.027, 0.005, 100),'length_2':np.random.normal(10.050, 0.001, 100),'width_1':np.random.normal(50.228, 0.003, 100),'dia_1':np.random.normal(30.000, 0.0001, 100)}) \n",
    "\n",
    "df.head(3)\n",
    "#can use df.head() to free up screen space\n"
   ]
  },
  {
   "cell_type": "code",
   "execution_count": 9,
   "metadata": {},
   "outputs": [
    {
     "data": {
      "image/png": "[encoded data removed]",
      "text/plain": [
       "<Figure size 432x288 with 4 Axes>"
      ]
     },
     "metadata": {
      "needs_background": "light"
     },
     "output_type": "display_data"
    }
   ],
   "source": [
    "# a quick visual check of the data in the dataframe using pandas.\n",
    "hist = df.hist(bins=15)\n"
   ]
  },
  {
   "cell_type": "markdown",
   "metadata": {},
   "source": [
    "## Instrument Accuracy\n"
   ]
  },
  {
   "cell_type": "code",
   "execution_count": 3,
   "metadata": {},
   "outputs": [
    {
     "name": "stdout",
     "output_type": "stream",
     "text": [
      "Approximate Error is\n",
      "0.014009999999999856 0.010050000000000114 0.0501999999999998 0.010050000000000114\n"
     ]
    }
   ],
   "source": [
    "mpe = 2.8\n",
    "err_length_1 = ((2.8 + 14.010/1000) - mpe)\n",
    "err_length_2 = ((2.8 + 10.050/1000) - mpe)\n",
    "err_width_1 = ((2.8 + 50.200/1000) - mpe)\n",
    "err_dia_1 = ((2.8 + 30.000/1000) - mpe)\n",
    "\n",
    "print(\"Approximate Error is\")\n",
    "print(err_length_1, err_length_2, err_width_1, err_length_2)"
   ]
  },
  {
   "cell_type": "markdown",
   "metadata": {},
   "source": [
    "This gives me an idea of the likely accuracy associated with each feature when using this specific instrument. It's a first step in looking for any potential misclassification issues but it doesn't tell the entire story. Since the parts are not actually all the same length maybe a better way to estimate this would be to apply the formula to each result obtained in the 100 samples and then add that (or take away) to either the same dataframe or a seperate one and then join them. For the purpose of this exercise, lets assume that i'm only interested in the positive error since the components are not fitting in final assembly and it is assumed they are too large."
   ]
  },
  {
   "cell_type": "code",
   "execution_count": 14,
   "metadata": {},
   "outputs": [
    {
     "data": {
      "text/html": [
       "<div>\n",
       "<style scoped>\n",
       "    .dataframe tbody tr th:only-of-type {\n",
       "        vertical-align: middle;\n",
       "    }\n",
       "\n",
       "    .dataframe tbody tr th {\n",
       "        vertical-align: top;\n",
       "    }\n",
       "\n",
       "    .dataframe thead th {\n",
       "        text-align: right;\n",
       "    }\n",
       "</style>\n",
       "<table border=\"1\" class=\"dataframe\">\n",
       "  <thead>\n",
       "    <tr style=\"text-align: right;\">\n",
       "      <th></th>\n",
       "      <th>err_length_1</th>\n",
       "      <th>err_length_2</th>\n",
       "      <th>err_width_1</th>\n",
       "      <th>err_dia_1</th>\n",
       "    </tr>\n",
       "  </thead>\n",
       "  <tbody>\n",
       "    <tr>\n",
       "      <th>0</th>\n",
       "      <td>14.026593</td>\n",
       "      <td>10.060418</td>\n",
       "      <td>50.261458</td>\n",
       "      <td>30.030253</td>\n",
       "    </tr>\n",
       "    <tr>\n",
       "      <th>1</th>\n",
       "      <td>14.030304</td>\n",
       "      <td>10.059532</td>\n",
       "      <td>50.255372</td>\n",
       "      <td>30.030022</td>\n",
       "    </tr>\n",
       "    <tr>\n",
       "      <th>2</th>\n",
       "      <td>14.039366</td>\n",
       "      <td>10.059650</td>\n",
       "      <td>50.262270</td>\n",
       "      <td>30.029883</td>\n",
       "    </tr>\n",
       "  </tbody>\n",
       "</table>\n",
       "</div>"
      ],
      "text/plain": [
       "   err_length_1  err_length_2  err_width_1  err_dia_1\n",
       "0     14.026593     10.060418    50.261458  30.030253\n",
       "1     14.030304     10.059532    50.255372  30.030022\n",
       "2     14.039366     10.059650    50.262270  30.029883"
      ]
     },
     "execution_count": 14,
     "metadata": {},
     "output_type": "execute_result"
    }
   ],
   "source": [
    "df1 = pd.DataFrame({'err_length_1':err_length_1 + length_1,'err_length_2':err_length_2 + length_2,'err_width_1':err_width_1 + width_1,'err_dia_1':err_dia_1 + dia_1})\n",
    "df1.head(3)"
   ]
  },
  {
   "cell_type": "code",
   "execution_count": 13,
   "metadata": {},
   "outputs": [
    {
     "data": {
      "text/html": [
       "<div>\n",
       "<style scoped>\n",
       "    .dataframe tbody tr th:only-of-type {\n",
       "        vertical-align: middle;\n",
       "    }\n",
       "\n",
       "    .dataframe tbody tr th {\n",
       "        vertical-align: top;\n",
       "    }\n",
       "\n",
       "    .dataframe thead th {\n",
       "        text-align: right;\n",
       "    }\n",
       "</style>\n",
       "<table border=\"1\" class=\"dataframe\">\n",
       "  <thead>\n",
       "    <tr style=\"text-align: right;\">\n",
       "      <th></th>\n",
       "      <th>length_1</th>\n",
       "      <th>length_2</th>\n",
       "      <th>width_1</th>\n",
       "      <th>dia_1</th>\n",
       "      <th>bias_length_1</th>\n",
       "      <th>bias_length_2</th>\n",
       "      <th>bias_width_1</th>\n",
       "      <th>bias_dia_1</th>\n",
       "    </tr>\n",
       "  </thead>\n",
       "  <tbody>\n",
       "    <tr>\n",
       "      <th>0</th>\n",
       "      <td>14.026498</td>\n",
       "      <td>10.050285</td>\n",
       "      <td>50.231495</td>\n",
       "      <td>29.999936</td>\n",
       "      <td>14.112583</td>\n",
       "      <td>10.150368</td>\n",
       "      <td>50.311258</td>\n",
       "      <td>30.100253</td>\n",
       "    </tr>\n",
       "    <tr>\n",
       "      <th>1</th>\n",
       "      <td>14.028127</td>\n",
       "      <td>10.048884</td>\n",
       "      <td>50.228805</td>\n",
       "      <td>29.999989</td>\n",
       "      <td>14.116294</td>\n",
       "      <td>10.149482</td>\n",
       "      <td>50.305172</td>\n",
       "      <td>30.100022</td>\n",
       "    </tr>\n",
       "    <tr>\n",
       "      <th>2</th>\n",
       "      <td>14.031620</td>\n",
       "      <td>10.049126</td>\n",
       "      <td>50.226764</td>\n",
       "      <td>29.999904</td>\n",
       "      <td>14.125356</td>\n",
       "      <td>10.149600</td>\n",
       "      <td>50.312070</td>\n",
       "      <td>30.099883</td>\n",
       "    </tr>\n",
       "  </tbody>\n",
       "</table>\n",
       "</div>"
      ],
      "text/plain": [
       "    length_1   length_2    width_1      dia_1  bias_length_1  bias_length_2  \\\n",
       "0  14.026498  10.050285  50.231495  29.999936      14.112583      10.150368   \n",
       "1  14.028127  10.048884  50.228805  29.999989      14.116294      10.149482   \n",
       "2  14.031620  10.049126  50.226764  29.999904      14.125356      10.149600   \n",
       "\n",
       "   bias_width_1  bias_dia_1  \n",
       "0     50.311258   30.100253  \n",
       "1     50.305172   30.100022  \n",
       "2     50.312070   30.099883  "
      ]
     },
     "execution_count": 13,
     "metadata": {},
     "output_type": "execute_result"
    }
   ],
   "source": [
    "left = df\n",
    "right = df1\n",
    "df3 = pd.concat([df,df1], axis=1)\n",
    "df3.head(3)"
   ]
  },
  {
   "cell_type": "markdown",
   "metadata": {},
   "source": [
    "## Bias"
   ]
  },
  {
   "cell_type": "markdown",
   "metadata": {},
   "source": [
    "As mentioned earlier the calibration certificate stated a negative systematic error of 5.0um or 0.005mm. The instrument was falsely reading 0.005 too low. This will have to be added to dataset."
   ]
  },
  {
   "cell_type": "code",
   "execution_count": 11,
   "metadata": {},
   "outputs": [
    {
     "data": {
      "text/html": [
       "<div>\n",
       "<style scoped>\n",
       "    .dataframe tbody tr th:only-of-type {\n",
       "        vertical-align: middle;\n",
       "    }\n",
       "\n",
       "    .dataframe tbody tr th {\n",
       "        vertical-align: top;\n",
       "    }\n",
       "\n",
       "    .dataframe thead th {\n",
       "        text-align: right;\n",
       "    }\n",
       "</style>\n",
       "<table border=\"1\" class=\"dataframe\">\n",
       "  <thead>\n",
       "    <tr style=\"text-align: right;\">\n",
       "      <th></th>\n",
       "      <th>bias_length_1</th>\n",
       "      <th>bias_length_2</th>\n",
       "      <th>bias_width_1</th>\n",
       "      <th>bias_dia_1</th>\n",
       "    </tr>\n",
       "  </thead>\n",
       "  <tbody>\n",
       "    <tr>\n",
       "      <th>0</th>\n",
       "      <td>14.112583</td>\n",
       "      <td>10.150368</td>\n",
       "      <td>50.311258</td>\n",
       "      <td>30.100253</td>\n",
       "    </tr>\n",
       "    <tr>\n",
       "      <th>1</th>\n",
       "      <td>14.116294</td>\n",
       "      <td>10.149482</td>\n",
       "      <td>50.305172</td>\n",
       "      <td>30.100022</td>\n",
       "    </tr>\n",
       "    <tr>\n",
       "      <th>2</th>\n",
       "      <td>14.125356</td>\n",
       "      <td>10.149600</td>\n",
       "      <td>50.312070</td>\n",
       "      <td>30.099883</td>\n",
       "    </tr>\n",
       "  </tbody>\n",
       "</table>\n",
       "</div>"
      ],
      "text/plain": [
       "   bias_length_1  bias_length_2  bias_width_1  bias_dia_1\n",
       "0      14.112583      10.150368     50.311258   30.100253\n",
       "1      14.116294      10.149482     50.305172   30.100022\n",
       "2      14.125356      10.149600     50.312070   30.099883"
      ]
     },
     "execution_count": 11,
     "metadata": {},
     "output_type": "execute_result"
    }
   ],
   "source": [
    "bias = 0.100\n",
    "df4 = df1 = pd.DataFrame({'bias_length_1':length_1 + bias,'bias_length_2':length_2 + bias,'bias_width_1':width_1 + bias,'bias_dia_1':dia_1 + bias})\n",
    "df4.head(3)"
   ]
  },
  {
   "cell_type": "code",
   "execution_count": 12,
   "metadata": {},
   "outputs": [
    {
     "data": {
      "text/html": [
       "<div>\n",
       "<style scoped>\n",
       "    .dataframe tbody tr th:only-of-type {\n",
       "        vertical-align: middle;\n",
       "    }\n",
       "\n",
       "    .dataframe tbody tr th {\n",
       "        vertical-align: top;\n",
       "    }\n",
       "\n",
       "    .dataframe thead th {\n",
       "        text-align: right;\n",
       "    }\n",
       "</style>\n",
       "<table border=\"1\" class=\"dataframe\">\n",
       "  <thead>\n",
       "    <tr style=\"text-align: right;\">\n",
       "      <th></th>\n",
       "      <th>length_1</th>\n",
       "      <th>length_2</th>\n",
       "      <th>width_1</th>\n",
       "      <th>dia_1</th>\n",
       "      <th>err_length_1</th>\n",
       "      <th>err_length_2</th>\n",
       "      <th>err_width_1</th>\n",
       "      <th>err_dia_1</th>\n",
       "      <th>bias_length_1</th>\n",
       "      <th>bias_length_2</th>\n",
       "      <th>bias_width_1</th>\n",
       "      <th>bias_dia_1</th>\n",
       "    </tr>\n",
       "  </thead>\n",
       "  <tbody>\n",
       "    <tr>\n",
       "      <th>0</th>\n",
       "      <td>14.026498</td>\n",
       "      <td>10.050285</td>\n",
       "      <td>50.231495</td>\n",
       "      <td>29.999936</td>\n",
       "      <td>14.026593</td>\n",
       "      <td>10.060418</td>\n",
       "      <td>50.261458</td>\n",
       "      <td>30.030253</td>\n",
       "      <td>14.112583</td>\n",
       "      <td>10.150368</td>\n",
       "      <td>50.311258</td>\n",
       "      <td>30.100253</td>\n",
       "    </tr>\n",
       "    <tr>\n",
       "      <th>1</th>\n",
       "      <td>14.028127</td>\n",
       "      <td>10.048884</td>\n",
       "      <td>50.228805</td>\n",
       "      <td>29.999989</td>\n",
       "      <td>14.030304</td>\n",
       "      <td>10.059532</td>\n",
       "      <td>50.255372</td>\n",
       "      <td>30.030022</td>\n",
       "      <td>14.116294</td>\n",
       "      <td>10.149482</td>\n",
       "      <td>50.305172</td>\n",
       "      <td>30.100022</td>\n",
       "    </tr>\n",
       "    <tr>\n",
       "      <th>2</th>\n",
       "      <td>14.031620</td>\n",
       "      <td>10.049126</td>\n",
       "      <td>50.226764</td>\n",
       "      <td>29.999904</td>\n",
       "      <td>14.039366</td>\n",
       "      <td>10.059650</td>\n",
       "      <td>50.262270</td>\n",
       "      <td>30.029883</td>\n",
       "      <td>14.125356</td>\n",
       "      <td>10.149600</td>\n",
       "      <td>50.312070</td>\n",
       "      <td>30.099883</td>\n",
       "    </tr>\n",
       "  </tbody>\n",
       "</table>\n",
       "</div>"
      ],
      "text/plain": [
       "    length_1   length_2    width_1      dia_1  err_length_1  err_length_2  \\\n",
       "0  14.026498  10.050285  50.231495  29.999936     14.026593     10.060418   \n",
       "1  14.028127  10.048884  50.228805  29.999989     14.030304     10.059532   \n",
       "2  14.031620  10.049126  50.226764  29.999904     14.039366     10.059650   \n",
       "\n",
       "   err_width_1  err_dia_1  bias_length_1  bias_length_2  bias_width_1  \\\n",
       "0    50.261458  30.030253      14.112583      10.150368     50.311258   \n",
       "1    50.255372  30.030022      14.116294      10.149482     50.305172   \n",
       "2    50.262270  30.029883      14.125356      10.149600     50.312070   \n",
       "\n",
       "   bias_dia_1  \n",
       "0   30.100253  \n",
       "1   30.100022  \n",
       "2   30.099883  "
      ]
     },
     "execution_count": 12,
     "metadata": {},
     "output_type": "execute_result"
    }
   ],
   "source": [
    "df5 = pd.concat([df3,df4], axis=1)\n",
    "df5.head(3)"
   ]
  },
  {
   "cell_type": "markdown",
   "metadata": {},
   "source": [
    "## Temperature"
   ]
  },
  {
   "cell_type": "markdown",
   "metadata": {},
   "source": [
    "The temperature was found to be 25 deg C. That was being measured by a piece of equipment with an accuracy of +/- 1 degree so it's likely that the temperature was between 24-26 degrees C."
   ]
  },
  {
   "cell_type": "code",
   "execution_count": 8,
   "metadata": {},
   "outputs": [
    {
     "data": {
      "image/png": "[encoded data removed]",
      "text/plain": [
       "<Figure size 432x288 with 1 Axes>"
      ]
     },
     "metadata": {
      "needs_background": "light"
     },
     "output_type": "display_data"
    }
   ],
   "source": [
    "import pandas as pd\n",
    "import numpy as np\n",
    "import matplotlib.pyplot as plt\n",
    "%matplotlib inline\n",
    "\n",
    "temp = np.random.uniform(24,26, 100)\n",
    "#temp\n",
    "count, bins, ignored = plt.hist(temp, 15, density=True)\n",
    "plt.plot(bins, np.ones_like(bins), linewidth=2, color='r')\n",
    "plt.show()"
   ]
  },
  {
   "cell_type": "markdown",
   "metadata": {},
   "source": [
    "Temperature compensation can be worked out individually for each measurement, however lets assume a scale correction factor is known in this case. The correction factor is 0.999. "
   ]
  },
  {
   "cell_type": "markdown",
   "metadata": {},
   "source": [
    "$$\\Delta L = \\Delta T"
   ]
  },
  {
   "cell_type": "code",
   "execution_count": null,
   "metadata": {},
   "outputs": [],
   "source": []
  }
 ],
 "metadata": {
  "kernelspec": {
   "display_name": "Python 3",
   "language": "python",
   "name": "python3"
  },
  "language_info": {
   "codemirror_mode": {
    "name": "ipython",
    "version": 3
   },
   "file_extension": ".py",
   "mimetype": "text/x-python",
   "name": "python",
   "nbconvert_exporter": "python",
   "pygments_lexer": "ipython3",
   "version": "3.6.6"
  }
 },
 "nbformat": 4,
 "nbformat_minor": 2
}
