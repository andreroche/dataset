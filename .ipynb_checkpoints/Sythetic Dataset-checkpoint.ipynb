{
 "cells": [
  {
   "cell_type": "markdown",
   "metadata": {},
   "source": [
    "## Background"
   ]
  },
  {
   "cell_type": "markdown",
   "metadata": {},
   "source": [
    "Uncertainty is a facininating concept. It is extremely vast and applies to almost all aspects of life. You could spend your entire life learning about it and still not understand all of it.\n",
    "Uncertainty is everywhere, in everything we do. For example, uncertainty affects the economy in many ways. Peoples attitude to spending are usually based on their level of confidence in the economy. Uncertainty of our future climate drives us to recycle more, burn more efficient fuel, reduce our emmisions and respect the environment. In a sense, it is almost motivational as once we are aware of something, we typically strive to improve it.\n",
    "In science, we frequently measure or observe things. We do this so that we can understand them better. By putting a measure on something it allows us to describe something, to visualise it or to comprehend it. Humans will design an experiment or build a model to test or measure a phenomenon and uncertainty will be the measure of the doubt that exists about the result or prediction. "
   ]
  },
  {
   "cell_type": "markdown",
   "metadata": {},
   "source": [
    "## Project - Dataset"
   ]
  },
  {
   "cell_type": "markdown",
   "metadata": {},
   "source": [
    "This project will focus on the field of dimensional metrology and more specifically, measurement systems. A measurement system might be described as a system encompassing the measuring instrument, the software, firmware, people/users, environment, method and the articles that they inspect. When designing a measurement system many aspects must be considered but ultimately the system should have an acceptable accuracy and variance for what it is designed to inspect. In conjunction with this, each measurement result should be accompanied by an uncertainty value since no measurement is ever perfect. When a measurement is taken, many phenomena can occur to influence that result and generally speaking that influence could be captured in the overall uncertainty. Estimating this uncertainy, it is possible to mitigate for the risk of misclassification based off results/observations made.         "
   ]
  },
  {
   "cell_type": "markdown",
   "metadata": {},
   "source": [
    "## Scenario"
   ]
  },
  {
   "cell_type": "markdown",
   "metadata": {},
   "source": [
    "You are asked to provide consultation to an aerospace company that manufactures a component. Post manufacture it inspects each component dimensionally to ensure it meets design intent/criteria. The component itself has 4 geometric features that must be verified through inspection, each having a nominal size and an associated tolerance. A measurement system is used to inspect the components to meet volume requirements. There is an issue with this component when it comes to final assembly. It is not fitting with other components at the final assembly plant located in another country. The equipment was installed correctly, has all the necessary certified paperwork and is passing its daily qualification checks. What is going on?\n",
    "\n",
    "The brief of the project is to create a synthetic dataset. This dataset will attempt to capture what the above situation might look like (in a fairly simplistic approach with assumptions) if it were a real investigation of the measurement phenomenon and try to answer some additional questions along the way."
   ]
  },
  {
   "cell_type": "markdown",
   "metadata": {},
   "source": [
    "## Investigation"
   ]
  },
  {
   "cell_type": "markdown",
   "metadata": {},
   "source": [
    "Investigation starts with the component. It has four geometric features that are inspected. They are relatively simple in terms of geometric complexity. Two features are lengths, one is a width and other is a diameter. There are no complex surfaces or advanced geometric constraints to be inspected.\n",
    "\n",
    "The features are:\n",
    "\n",
    "length_1 is 14.010mm +/- 0.020: length_2 is 10.050mm +/- 0.050: width_1 is  50.200mm +/- 0.100: Dia_1 is 30.000mm +/- 0.070\n",
    "\n",
    "Instruments:\n",
    "\n",
    "It was found that the instrument is a coordinate measuring machines, often referred to as 'CMM's'. For now lets call it instrument_1\n",
    "It has a calibration certificate stating the equipments maximum permissable error for error of length indication. After speaking with the OEM, it is understood that this is essentially an accuracy statement for the equipment when measuring length type features.\n",
    "\n",
    "It is stated in linear type form:  MPEE  = X + L/K   where X and K are constants. (x = um, L = mm, K = no units)\n",
    "\n",
    "instrument_1 = 2.8 + L/1000 (result is in microns)\n",
    "\n",
    "\n",
    "\n",
    "The certificate shows that instrument_1 was calibrated and serviced 2 months ago. It is noted that instrument_1 has a positive bias of 0.5um. The instrument does not exibit any other systematic errors.\n",
    "\n",
    "\n",
    "Users:\n",
    "\n",
    "Looking at user of the measurement system, It was discovered that one operator was responsible for running the system.\n",
    "\n",
    "Mary ran instrument_1 and was quite experienced. A standardised method for use of the equipment was also in place. \n",
    "\n",
    "\n",
    "Environment:\n",
    "\n",
    "instrument_1 was located in a temperature controlled room cerified at 19-21 deg C. However, the climate control was malfunctioning and the temperature was found to be at a static 25 Deg C \n"
   ]
  },
  {
   "cell_type": "markdown",
   "metadata": {},
   "source": [
    "## Summary of Investigation"
   ]
  },
  {
   "cell_type": "markdown",
   "metadata": {},
   "source": [
    "After further investigation I decide the following:\n",
    "\n",
    "(1) I need to pull some previous data on measurements and review the results for each feature (2) I need to calculate what the likely instrument error is for measurements of each feature (3) I need to compensate for bias in the equipment (4) I need to investigate the effects of temperature (5) estimate any likely variance (6) estimate what the overall uncertainty might be and (7) analyse the data and generate any conclusions.  "
   ]
  },
  {
   "cell_type": "markdown",
   "metadata": {},
   "source": [
    "## Simulating the results from 100 components"
   ]
  },
  {
   "cell_type": "markdown",
   "metadata": {},
   "source": [
    "I would expect the results to be normally distributed for each feature. I'm going to make a few assumptions here. Having reviewed the measurment results I found that length_1 and width_1 were manufactured close to the upper tolerance limit. The other features were relatively centred on nominal. All data should be floating point numbers and should be positive values based on the specifications above."
   ]
  },
  {
   "cell_type": "code",
   "execution_count": 47,
   "metadata": {
    "scrolled": true
   },
   "outputs": [
    {
     "data": {
      "text/html": [
       "<div>\n",
       "<style scoped>\n",
       "    .dataframe tbody tr th:only-of-type {\n",
       "        vertical-align: middle;\n",
       "    }\n",
       "\n",
       "    .dataframe tbody tr th {\n",
       "        vertical-align: top;\n",
       "    }\n",
       "\n",
       "    .dataframe thead th {\n",
       "        text-align: right;\n",
       "    }\n",
       "</style>\n",
       "<table border=\"1\" class=\"dataframe\">\n",
       "  <thead>\n",
       "    <tr style=\"text-align: right;\">\n",
       "      <th></th>\n",
       "      <th>length_1</th>\n",
       "      <th>length_2</th>\n",
       "      <th>width_1</th>\n",
       "      <th>dia_1</th>\n",
       "    </tr>\n",
       "  </thead>\n",
       "  <tbody>\n",
       "    <tr>\n",
       "      <th>0</th>\n",
       "      <td>14.019296</td>\n",
       "      <td>10.050061</td>\n",
       "      <td>50.227714</td>\n",
       "      <td>30.000052</td>\n",
       "    </tr>\n",
       "    <tr>\n",
       "      <th>1</th>\n",
       "      <td>14.020608</td>\n",
       "      <td>10.051800</td>\n",
       "      <td>50.225594</td>\n",
       "      <td>30.000101</td>\n",
       "    </tr>\n",
       "    <tr>\n",
       "      <th>2</th>\n",
       "      <td>14.024360</td>\n",
       "      <td>10.051394</td>\n",
       "      <td>50.228696</td>\n",
       "      <td>29.999852</td>\n",
       "    </tr>\n",
       "    <tr>\n",
       "      <th>3</th>\n",
       "      <td>14.029510</td>\n",
       "      <td>10.048584</td>\n",
       "      <td>50.231483</td>\n",
       "      <td>29.999997</td>\n",
       "    </tr>\n",
       "    <tr>\n",
       "      <th>4</th>\n",
       "      <td>14.017988</td>\n",
       "      <td>10.050769</td>\n",
       "      <td>50.227817</td>\n",
       "      <td>29.999902</td>\n",
       "    </tr>\n",
       "    <tr>\n",
       "      <th>5</th>\n",
       "      <td>14.029914</td>\n",
       "      <td>10.048846</td>\n",
       "      <td>50.227994</td>\n",
       "      <td>29.999962</td>\n",
       "    </tr>\n",
       "    <tr>\n",
       "      <th>6</th>\n",
       "      <td>14.030224</td>\n",
       "      <td>10.048965</td>\n",
       "      <td>50.227674</td>\n",
       "      <td>29.999943</td>\n",
       "    </tr>\n",
       "    <tr>\n",
       "      <th>7</th>\n",
       "      <td>14.025415</td>\n",
       "      <td>10.047568</td>\n",
       "      <td>50.229888</td>\n",
       "      <td>30.000103</td>\n",
       "    </tr>\n",
       "    <tr>\n",
       "      <th>8</th>\n",
       "      <td>14.014414</td>\n",
       "      <td>10.049784</td>\n",
       "      <td>50.228913</td>\n",
       "      <td>29.999926</td>\n",
       "    </tr>\n",
       "    <tr>\n",
       "      <th>9</th>\n",
       "      <td>14.021438</td>\n",
       "      <td>10.051785</td>\n",
       "      <td>50.226428</td>\n",
       "      <td>29.999888</td>\n",
       "    </tr>\n",
       "    <tr>\n",
       "      <th>10</th>\n",
       "      <td>14.021833</td>\n",
       "      <td>10.047913</td>\n",
       "      <td>50.228720</td>\n",
       "      <td>29.999968</td>\n",
       "    </tr>\n",
       "    <tr>\n",
       "      <th>11</th>\n",
       "      <td>14.026805</td>\n",
       "      <td>10.048952</td>\n",
       "      <td>50.224049</td>\n",
       "      <td>30.000096</td>\n",
       "    </tr>\n",
       "    <tr>\n",
       "      <th>12</th>\n",
       "      <td>14.025174</td>\n",
       "      <td>10.049976</td>\n",
       "      <td>50.229071</td>\n",
       "      <td>29.999976</td>\n",
       "    </tr>\n",
       "    <tr>\n",
       "      <th>13</th>\n",
       "      <td>14.022822</td>\n",
       "      <td>10.048108</td>\n",
       "      <td>50.228586</td>\n",
       "      <td>29.999872</td>\n",
       "    </tr>\n",
       "    <tr>\n",
       "      <th>14</th>\n",
       "      <td>14.029196</td>\n",
       "      <td>10.049283</td>\n",
       "      <td>50.225617</td>\n",
       "      <td>29.999992</td>\n",
       "    </tr>\n",
       "    <tr>\n",
       "      <th>15</th>\n",
       "      <td>14.029320</td>\n",
       "      <td>10.048154</td>\n",
       "      <td>50.223934</td>\n",
       "      <td>30.000027</td>\n",
       "    </tr>\n",
       "    <tr>\n",
       "      <th>16</th>\n",
       "      <td>14.017807</td>\n",
       "      <td>10.050325</td>\n",
       "      <td>50.227221</td>\n",
       "      <td>30.000029</td>\n",
       "    </tr>\n",
       "    <tr>\n",
       "      <th>17</th>\n",
       "      <td>14.033879</td>\n",
       "      <td>10.048865</td>\n",
       "      <td>50.227806</td>\n",
       "      <td>29.999835</td>\n",
       "    </tr>\n",
       "    <tr>\n",
       "      <th>18</th>\n",
       "      <td>14.037264</td>\n",
       "      <td>10.051167</td>\n",
       "      <td>50.225680</td>\n",
       "      <td>30.000060</td>\n",
       "    </tr>\n",
       "    <tr>\n",
       "      <th>19</th>\n",
       "      <td>14.025241</td>\n",
       "      <td>10.050089</td>\n",
       "      <td>50.227202</td>\n",
       "      <td>29.999927</td>\n",
       "    </tr>\n",
       "    <tr>\n",
       "      <th>20</th>\n",
       "      <td>14.024381</td>\n",
       "      <td>10.050056</td>\n",
       "      <td>50.230478</td>\n",
       "      <td>29.999918</td>\n",
       "    </tr>\n",
       "  </tbody>\n",
       "</table>\n",
       "</div>"
      ],
      "text/plain": [
       "     length_1   length_2    width_1      dia_1\n",
       "0   14.019296  10.050061  50.227714  30.000052\n",
       "1   14.020608  10.051800  50.225594  30.000101\n",
       "2   14.024360  10.051394  50.228696  29.999852\n",
       "3   14.029510  10.048584  50.231483  29.999997\n",
       "4   14.017988  10.050769  50.227817  29.999902\n",
       "5   14.029914  10.048846  50.227994  29.999962\n",
       "6   14.030224  10.048965  50.227674  29.999943\n",
       "7   14.025415  10.047568  50.229888  30.000103\n",
       "8   14.014414  10.049784  50.228913  29.999926\n",
       "9   14.021438  10.051785  50.226428  29.999888\n",
       "10  14.021833  10.047913  50.228720  29.999968\n",
       "11  14.026805  10.048952  50.224049  30.000096\n",
       "12  14.025174  10.049976  50.229071  29.999976\n",
       "13  14.022822  10.048108  50.228586  29.999872\n",
       "14  14.029196  10.049283  50.225617  29.999992\n",
       "15  14.029320  10.048154  50.223934  30.000027\n",
       "16  14.017807  10.050325  50.227221  30.000029\n",
       "17  14.033879  10.048865  50.227806  29.999835\n",
       "18  14.037264  10.051167  50.225680  30.000060\n",
       "19  14.025241  10.050089  50.227202  29.999927\n",
       "20  14.024381  10.050056  50.230478  29.999918"
      ]
     },
     "execution_count": 47,
     "metadata": {},
     "output_type": "execute_result"
    }
   ],
   "source": [
    "import pandas as pd\n",
    "import numpy as np\n",
    "import matplotlib.pyplot as plt\n",
    "%matplotlib inline\n",
    "\n",
    "#define the features, 100 samples each having different stdev and means\n",
    "length_1 = np.random.normal(14.027, 0.005, 100)\n",
    "length_2 = np.random.normal(10.050, 0.0004, 100)\n",
    "width_1 = np.random.normal(50.228, 0.004, 100)\n",
    "dia_1 = np.random.normal(30.000, 0.0001, 100)\n",
    "\n",
    "# type 'variable name' to view the array of data. I just don't need to see it yet\n",
    "\n",
    "features = pd.DataFrame({'length_1':np.random.normal(14.027, 0.005, 100),'length_2':np.random.normal(10.050, 0.001, 100),'width_1':np.random.normal(50.228, 0.003, 100),'dia_1':np.random.normal(30.000, 0.0001, 100)}) \n",
    "\n",
    "features.head(21)\n",
    "#can use df.head() to free up screen space"
   ]
  },
  {
   "cell_type": "code",
   "execution_count": null,
   "metadata": {},
   "outputs": [],
   "source": []
  },
  {
   "cell_type": "code",
   "execution_count": null,
   "metadata": {},
   "outputs": [],
   "source": []
  }
 ],
 "metadata": {
  "kernelspec": {
   "display_name": "Python 3",
   "language": "python",
   "name": "python3"
  },
  "language_info": {
   "codemirror_mode": {
    "name": "ipython",
    "version": 3
   },
   "file_extension": ".py",
   "mimetype": "text/x-python",
   "name": "python",
   "nbconvert_exporter": "python",
   "pygments_lexer": "ipython3",
   "version": "3.6.6"
  }
 },
 "nbformat": 4,
 "nbformat_minor": 2
}
