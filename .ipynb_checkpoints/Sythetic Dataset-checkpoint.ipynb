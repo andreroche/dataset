{
 "cells": [
  {
   "cell_type": "markdown",
   "metadata": {},
   "source": [
    "## Background"
   ]
  },
  {
   "cell_type": "markdown",
   "metadata": {},
   "source": [
    "Uncertainty is a facininating concept. It is extremely vast and applies to almost all aspects of life. You could spend your entire life learning about it and still not understand all of it.\n",
    "Uncertainty is everywhere, in everything we do. For example, uncertainty affects the economy in many ways. Peoples attitude to spending are usually based on their level of confidence in the economy. Uncertainty of our future climate drives us to recycle more, burn more efficient fuel, reduce our emmisions and respect the environment. In a sense, it is almost motivational as once we are aware of something, we typically strive to improve it.\n",
    "In science, we frequently measure or observe things. We do this so that we can understand them better. By putting a measure on something it allows us to describe something, to visualise it or to comprehend it. Humans will design an experiment or build a model to test or measure a phenomenon and uncertainty will be the measure of the doubt that exists about the result or prediction. "
   ]
  },
  {
   "cell_type": "markdown",
   "metadata": {},
   "source": [
    "## Project - Dataset"
   ]
  },
  {
   "cell_type": "markdown",
   "metadata": {},
   "source": [
    "This project will focus on the field of dimensional metrology and more specifically, measurement systems. A measurement system might be described as a system encompassing the measuring instrument, the software, firmware, people/users, environment, method and the articles that they inspect. When designing a measurement system many aspects must be considered but ultimately the system should have an acceptable accuracy and variance for what it is designed to inspect. In conjunction with this, each measurement result should be accompanied by an uncertainty value since no measurement is ever perfect. When a measurement is taken, many phenomena can occur to influence that result and generally speaking that influence could be captured in the overall uncertainty. Estimating this uncertainy, it is possible to mitigate for the risk of misclassification based off results/observations made.         "
   ]
  },
  {
   "cell_type": "markdown",
   "metadata": {},
   "source": [
    "## Scenario"
   ]
  },
  {
   "cell_type": "markdown",
   "metadata": {},
   "source": [
    "You are asked to provide consultation to an aerospace company that manufactures a component. Post manufacture it inspects each component dimensionally to ensure it meets design intent/criteria. The component itself has 4 geometric features that must be verified through inspection, each having a nominal size and an associated tolerance. A measurement system is used to inspect the components to meet volume requirements. There is an issue with this component when it comes to final assembly. It is not fitting with other components at the final assembly plant located in another country. The equipment was installed correctly, has all the necessary certified paperwork and is passing its daily qualification checks. What is going on?\n",
    "\n",
    "The brief of the project is to create a synthetic dataset. This dataset will attempt to capture what the above situation might look like (in a fairly simplistic approach with assumptions) if it were a real investigation of the measurement phenomenon and try to answer some additional questions along the way."
   ]
  },
  {
   "cell_type": "markdown",
   "metadata": {},
   "source": [
    "## Investigation"
   ]
  },
  {
   "cell_type": "markdown",
   "metadata": {},
   "source": [
    "Investigation starts with the component. It has four geometric features that are inspected. They are relatively simple in terms of geometric complexity. Two features are lengths, one is a width and other is a diameter. There are no complex surfaces or advanced geometric constraints to be inspected.\n",
    "\n",
    "The features are:\n",
    "\n",
    "length_1 is 14.010mm +/- 0.020: length_2 is 10.050mm +/- 0.050: width_1 is  50.200mm +/- 0.100: Dia_1 is 30.000mm +/- 0.070\n",
    "\n",
    "Instruments:\n",
    "\n",
    "It was found that the instrument is a coordinate measuring machine, often referred to as 'CMM'. For now lets call it instrument_1\n",
    "It has an old calibration certificate stating the equipments maximum permissable error for error of length indication. After speaking with the OEM, it is understood that this is essentially an accuracy statement for the equipment when measuring length type features.\n",
    "\n",
    "It is stated in linear type form:  MPEE  = X + L/K   where X and K are constants. (x = um, L = mm, K = no units)\n",
    "\n",
    "instrument_1 = 2.8 + L/1000 (result is in microns)\n",
    "\n",
    "\n",
    "\n",
    "The certificate shows that instrument_1 was verified but not calibrated and 2 months ago. It is noted that instrument_1 has a negative bias of 0.1mm. As it was only verified and not calibrated, no adjustment was made for this. The instrument does not exibit any other systematic errors.\n",
    "The verification stated a verification uncertainty of 0.1% of mean readings.\n",
    "The divisions on the scale of the instrument have a resolution of +/- 0.001mm.\n",
    "\n",
    "\n",
    "Users:\n",
    "\n",
    "Looking at user of the measurement system, It was discovered that one operator was responsible for running the system.\n",
    "\n",
    "Mary ran instrument_1 and was quite experienced. A standardised method for use of the equipment was also in place. \n",
    "\n",
    "\n",
    "Environment:\n",
    "\n",
    "instrument_1 was located in a temperature controlled room cerified at 19-21 deg C. However, the climate control was malfunctioning and the temperature was found to be at a static 25 Deg C.\n"
   ]
  },
  {
   "cell_type": "markdown",
   "metadata": {},
   "source": [
    "## Summary of Investigation"
   ]
  },
  {
   "cell_type": "markdown",
   "metadata": {},
   "source": [
    "After further investigation I decide the following:\n",
    "\n",
    "(1) I need to pull some previous data on measurements and review the results for each feature (2) I need to calculate what the likely instrument error is for measurements of each feature (3) I need to compensate for bias in the equipment (4) I need to investigate the effects of temperature (5) estimate any likely variance (6) estimate what the overall uncertainty might be and (7) analyse the data and generate any conclusions.  "
   ]
  },
  {
   "cell_type": "markdown",
   "metadata": {},
   "source": [
    "## Simulating the results from 100 components"
   ]
  },
  {
   "cell_type": "markdown",
   "metadata": {},
   "source": [
    "I would expect the results to be normally distributed for each feature. I'm going to make a few assumptions here. Having reviewed the measurment results I found that length_1 and width_1 were manufactured above centre/target nominal. The other features were relatively centred on nominal. All data should be floating point numbers and should be positive values based on the specifications above."
   ]
  },
  {
   "cell_type": "code",
   "execution_count": 4,
   "metadata": {
    "scrolled": true
   },
   "outputs": [
    {
     "data": {
      "text/html": [
       "<div>\n",
       "<style scoped>\n",
       "    .dataframe tbody tr th:only-of-type {\n",
       "        vertical-align: middle;\n",
       "    }\n",
       "\n",
       "    .dataframe tbody tr th {\n",
       "        vertical-align: top;\n",
       "    }\n",
       "\n",
       "    .dataframe thead th {\n",
       "        text-align: right;\n",
       "    }\n",
       "</style>\n",
       "<table border=\"1\" class=\"dataframe\">\n",
       "  <thead>\n",
       "    <tr style=\"text-align: right;\">\n",
       "      <th></th>\n",
       "      <th>length_1</th>\n",
       "      <th>length_2</th>\n",
       "      <th>width_1</th>\n",
       "      <th>dia_1</th>\n",
       "    </tr>\n",
       "  </thead>\n",
       "  <tbody>\n",
       "    <tr>\n",
       "      <th>0</th>\n",
       "      <td>14.023296</td>\n",
       "      <td>10.049557</td>\n",
       "      <td>50.230318</td>\n",
       "      <td>29.999849</td>\n",
       "    </tr>\n",
       "    <tr>\n",
       "      <th>1</th>\n",
       "      <td>14.029919</td>\n",
       "      <td>10.049908</td>\n",
       "      <td>50.230436</td>\n",
       "      <td>29.999896</td>\n",
       "    </tr>\n",
       "    <tr>\n",
       "      <th>2</th>\n",
       "      <td>14.031232</td>\n",
       "      <td>10.050093</td>\n",
       "      <td>50.229252</td>\n",
       "      <td>30.000005</td>\n",
       "    </tr>\n",
       "  </tbody>\n",
       "</table>\n",
       "</div>"
      ],
      "text/plain": [
       "    length_1   length_2    width_1      dia_1\n",
       "0  14.023296  10.049557  50.230318  29.999849\n",
       "1  14.029919  10.049908  50.230436  29.999896\n",
       "2  14.031232  10.050093  50.229252  30.000005"
      ]
     },
     "execution_count": 4,
     "metadata": {},
     "output_type": "execute_result"
    }
   ],
   "source": [
    "import pandas as pd\n",
    "import numpy as np\n",
    "import matplotlib.pyplot as plt\n",
    "import seaborn as sns\n",
    "from scipy import stats\n",
    "%matplotlib inline\n",
    "\n",
    "\n",
    "#define the features, 100 samples each having different stdev and means\n",
    "length_1 = np.random.normal(14.011, 0.005, 100)\n",
    "length_2 = np.random.normal(10.050, 0.0004, 100)\n",
    "width_1 = np.random.normal(50.210, 0.004, 100)\n",
    "dia_1 = np.random.normal(30.000, 0.0001, 100)\n",
    "\n",
    "# type 'variable name' to view the array of data. I just don't need to see it yet\n",
    "\n",
    "df = pd.DataFrame({'length_1':np.random.normal(14.027, 0.005, 100),'length_2':np.random.normal(10.050, 0.001, 100),'width_1':np.random.normal(50.228, 0.003, 100),'dia_1':np.random.normal(30.000, 0.0001, 100)}) \n",
    "\n",
    "df.head(3)\n",
    "#can use df.head() to free up screen space\n"
   ]
  },
  {
   "cell_type": "code",
   "execution_count": 5,
   "metadata": {},
   "outputs": [
    {
     "data": {
      "image/png": "[encoded data removed]",
      "text/plain": [
       "<Figure size 432x288 with 4 Axes>"
      ]
     },
     "metadata": {
      "needs_background": "light"
     },
     "output_type": "display_data"
    }
   ],
   "source": [
    "# a quick visual check of the data in the dataframe using pandas.\n",
    "hist = df.hist(bins=15)\n"
   ]
  },
  {
   "cell_type": "markdown",
   "metadata": {},
   "source": [
    "## Instrument Accuracy\n"
   ]
  },
  {
   "cell_type": "code",
   "execution_count": 6,
   "metadata": {},
   "outputs": [
    {
     "name": "stdout",
     "output_type": "stream",
     "text": [
      "Approximate Error is\n",
      "0.014009999999999856 0.010050000000000114 0.0501999999999998 0.010050000000000114\n"
     ]
    }
   ],
   "source": [
    "mpe = 2.8\n",
    "err_length_1 = ((2.8 + 14.010/1000) - mpe)\n",
    "err_length_2 = ((2.8 + 10.050/1000) - mpe)\n",
    "err_width_1 = ((2.8 + 50.200/1000) - mpe)\n",
    "err_dia_1 = ((2.8 + 30.000/1000) - mpe)\n",
    "\n",
    "print(\"Approximate Error is\")\n",
    "print(err_length_1, err_length_2, err_width_1, err_length_2)"
   ]
  },
  {
   "cell_type": "markdown",
   "metadata": {},
   "source": [
    "This gives me an idea of the likely accuracy associated with each feature when using this specific instrument. It's a first step in looking for any potential misclassification issues but it doesn't tell the entire story. Since the parts are not actually all the same length maybe a better way to estimate this would be to apply the formula to each result obtained in the 100 samples and then add that (or take away) to either the same dataframe or a seperate one and then join them. For the purpose of this exercise, lets assume that i'm only interested in the positive error since the components are not fitting in final assembly and it is assumed they are too large."
   ]
  },
  {
   "cell_type": "code",
   "execution_count": 7,
   "metadata": {},
   "outputs": [
    {
     "data": {
      "text/html": [
       "<div>\n",
       "<style scoped>\n",
       "    .dataframe tbody tr th:only-of-type {\n",
       "        vertical-align: middle;\n",
       "    }\n",
       "\n",
       "    .dataframe tbody tr th {\n",
       "        vertical-align: top;\n",
       "    }\n",
       "\n",
       "    .dataframe thead th {\n",
       "        text-align: right;\n",
       "    }\n",
       "</style>\n",
       "<table border=\"1\" class=\"dataframe\">\n",
       "  <thead>\n",
       "    <tr style=\"text-align: right;\">\n",
       "      <th></th>\n",
       "      <th>err_length_1</th>\n",
       "      <th>err_length_2</th>\n",
       "      <th>err_width_1</th>\n",
       "      <th>err_dia_1</th>\n",
       "    </tr>\n",
       "  </thead>\n",
       "  <tbody>\n",
       "    <tr>\n",
       "      <th>0</th>\n",
       "      <td>14.018939</td>\n",
       "      <td>10.060199</td>\n",
       "      <td>50.262398</td>\n",
       "      <td>30.030141</td>\n",
       "    </tr>\n",
       "    <tr>\n",
       "      <th>1</th>\n",
       "      <td>14.028838</td>\n",
       "      <td>10.060367</td>\n",
       "      <td>50.251560</td>\n",
       "      <td>30.030084</td>\n",
       "    </tr>\n",
       "    <tr>\n",
       "      <th>2</th>\n",
       "      <td>14.013255</td>\n",
       "      <td>10.060159</td>\n",
       "      <td>50.260529</td>\n",
       "      <td>30.030003</td>\n",
       "    </tr>\n",
       "  </tbody>\n",
       "</table>\n",
       "</div>"
      ],
      "text/plain": [
       "   err_length_1  err_length_2  err_width_1  err_dia_1\n",
       "0     14.018939     10.060199    50.262398  30.030141\n",
       "1     14.028838     10.060367    50.251560  30.030084\n",
       "2     14.013255     10.060159    50.260529  30.030003"
      ]
     },
     "execution_count": 7,
     "metadata": {},
     "output_type": "execute_result"
    }
   ],
   "source": [
    "df1 = pd.DataFrame({'err_length_1':err_length_1 + length_1,'err_length_2':err_length_2 + length_2,'err_width_1':err_width_1 + width_1,'err_dia_1':err_dia_1 + dia_1})\n",
    "df1.head(3)"
   ]
  },
  {
   "cell_type": "code",
   "execution_count": null,
   "metadata": {},
   "outputs": [],
   "source": []
  },
  {
   "cell_type": "code",
   "execution_count": 8,
   "metadata": {},
   "outputs": [
    {
     "data": {
      "text/html": [
       "<div>\n",
       "<style scoped>\n",
       "    .dataframe tbody tr th:only-of-type {\n",
       "        vertical-align: middle;\n",
       "    }\n",
       "\n",
       "    .dataframe tbody tr th {\n",
       "        vertical-align: top;\n",
       "    }\n",
       "\n",
       "    .dataframe thead th {\n",
       "        text-align: right;\n",
       "    }\n",
       "</style>\n",
       "<table border=\"1\" class=\"dataframe\">\n",
       "  <thead>\n",
       "    <tr style=\"text-align: right;\">\n",
       "      <th></th>\n",
       "      <th>length_1</th>\n",
       "      <th>length_2</th>\n",
       "      <th>width_1</th>\n",
       "      <th>dia_1</th>\n",
       "      <th>err_length_1</th>\n",
       "      <th>err_length_2</th>\n",
       "      <th>err_width_1</th>\n",
       "      <th>err_dia_1</th>\n",
       "    </tr>\n",
       "  </thead>\n",
       "  <tbody>\n",
       "    <tr>\n",
       "      <th>0</th>\n",
       "      <td>14.023296</td>\n",
       "      <td>10.049557</td>\n",
       "      <td>50.230318</td>\n",
       "      <td>29.999849</td>\n",
       "      <td>14.018939</td>\n",
       "      <td>10.060199</td>\n",
       "      <td>50.262398</td>\n",
       "      <td>30.030141</td>\n",
       "    </tr>\n",
       "    <tr>\n",
       "      <th>1</th>\n",
       "      <td>14.029919</td>\n",
       "      <td>10.049908</td>\n",
       "      <td>50.230436</td>\n",
       "      <td>29.999896</td>\n",
       "      <td>14.028838</td>\n",
       "      <td>10.060367</td>\n",
       "      <td>50.251560</td>\n",
       "      <td>30.030084</td>\n",
       "    </tr>\n",
       "    <tr>\n",
       "      <th>2</th>\n",
       "      <td>14.031232</td>\n",
       "      <td>10.050093</td>\n",
       "      <td>50.229252</td>\n",
       "      <td>30.000005</td>\n",
       "      <td>14.013255</td>\n",
       "      <td>10.060159</td>\n",
       "      <td>50.260529</td>\n",
       "      <td>30.030003</td>\n",
       "    </tr>\n",
       "  </tbody>\n",
       "</table>\n",
       "</div>"
      ],
      "text/plain": [
       "    length_1   length_2    width_1      dia_1  err_length_1  err_length_2  \\\n",
       "0  14.023296  10.049557  50.230318  29.999849     14.018939     10.060199   \n",
       "1  14.029919  10.049908  50.230436  29.999896     14.028838     10.060367   \n",
       "2  14.031232  10.050093  50.229252  30.000005     14.013255     10.060159   \n",
       "\n",
       "   err_width_1  err_dia_1  \n",
       "0    50.262398  30.030141  \n",
       "1    50.251560  30.030084  \n",
       "2    50.260529  30.030003  "
      ]
     },
     "execution_count": 8,
     "metadata": {},
     "output_type": "execute_result"
    }
   ],
   "source": [
    "left = df\n",
    "right = df1\n",
    "df3 = pd.concat([df,df1], axis=1)\n",
    "df3.head(3)"
   ]
  },
  {
   "cell_type": "markdown",
   "metadata": {},
   "source": [
    "## Bias"
   ]
  },
  {
   "cell_type": "markdown",
   "metadata": {},
   "source": [
    "As mentioned earlier the calibration certificate stated a negative systematic error of 5.0um or 0.005mm. The instrument was falsely reading 0.005 too low. This will have to be added to dataset."
   ]
  },
  {
   "cell_type": "code",
   "execution_count": 9,
   "metadata": {},
   "outputs": [
    {
     "data": {
      "text/html": [
       "<div>\n",
       "<style scoped>\n",
       "    .dataframe tbody tr th:only-of-type {\n",
       "        vertical-align: middle;\n",
       "    }\n",
       "\n",
       "    .dataframe tbody tr th {\n",
       "        vertical-align: top;\n",
       "    }\n",
       "\n",
       "    .dataframe thead th {\n",
       "        text-align: right;\n",
       "    }\n",
       "</style>\n",
       "<table border=\"1\" class=\"dataframe\">\n",
       "  <thead>\n",
       "    <tr style=\"text-align: right;\">\n",
       "      <th></th>\n",
       "      <th>bias_length_1</th>\n",
       "      <th>bias_length_2</th>\n",
       "      <th>bias_width_1</th>\n",
       "      <th>bias_dia_1</th>\n",
       "    </tr>\n",
       "  </thead>\n",
       "  <tbody>\n",
       "    <tr>\n",
       "      <th>0</th>\n",
       "      <td>14.104929</td>\n",
       "      <td>10.150149</td>\n",
       "      <td>50.312198</td>\n",
       "      <td>30.100141</td>\n",
       "    </tr>\n",
       "    <tr>\n",
       "      <th>1</th>\n",
       "      <td>14.114828</td>\n",
       "      <td>10.150317</td>\n",
       "      <td>50.301360</td>\n",
       "      <td>30.100084</td>\n",
       "    </tr>\n",
       "    <tr>\n",
       "      <th>2</th>\n",
       "      <td>14.099245</td>\n",
       "      <td>10.150109</td>\n",
       "      <td>50.310329</td>\n",
       "      <td>30.100003</td>\n",
       "    </tr>\n",
       "  </tbody>\n",
       "</table>\n",
       "</div>"
      ],
      "text/plain": [
       "   bias_length_1  bias_length_2  bias_width_1  bias_dia_1\n",
       "0      14.104929      10.150149     50.312198   30.100141\n",
       "1      14.114828      10.150317     50.301360   30.100084\n",
       "2      14.099245      10.150109     50.310329   30.100003"
      ]
     },
     "execution_count": 9,
     "metadata": {},
     "output_type": "execute_result"
    }
   ],
   "source": [
    "bias = 0.100\n",
    "df4 = df1 = pd.DataFrame({'bias_length_1':length_1 + bias,'bias_length_2':length_2 + bias,'bias_width_1':width_1 + bias,'bias_dia_1':dia_1 + bias})\n",
    "df4.head(3)"
   ]
  },
  {
   "cell_type": "code",
   "execution_count": 10,
   "metadata": {},
   "outputs": [
    {
     "data": {
      "text/html": [
       "<div>\n",
       "<style scoped>\n",
       "    .dataframe tbody tr th:only-of-type {\n",
       "        vertical-align: middle;\n",
       "    }\n",
       "\n",
       "    .dataframe tbody tr th {\n",
       "        vertical-align: top;\n",
       "    }\n",
       "\n",
       "    .dataframe thead th {\n",
       "        text-align: right;\n",
       "    }\n",
       "</style>\n",
       "<table border=\"1\" class=\"dataframe\">\n",
       "  <thead>\n",
       "    <tr style=\"text-align: right;\">\n",
       "      <th></th>\n",
       "      <th>length_1</th>\n",
       "      <th>length_2</th>\n",
       "      <th>width_1</th>\n",
       "      <th>dia_1</th>\n",
       "      <th>err_length_1</th>\n",
       "      <th>err_length_2</th>\n",
       "      <th>err_width_1</th>\n",
       "      <th>err_dia_1</th>\n",
       "      <th>bias_length_1</th>\n",
       "      <th>bias_length_2</th>\n",
       "      <th>bias_width_1</th>\n",
       "      <th>bias_dia_1</th>\n",
       "    </tr>\n",
       "  </thead>\n",
       "  <tbody>\n",
       "    <tr>\n",
       "      <th>0</th>\n",
       "      <td>14.023296</td>\n",
       "      <td>10.049557</td>\n",
       "      <td>50.230318</td>\n",
       "      <td>29.999849</td>\n",
       "      <td>14.018939</td>\n",
       "      <td>10.060199</td>\n",
       "      <td>50.262398</td>\n",
       "      <td>30.030141</td>\n",
       "      <td>14.104929</td>\n",
       "      <td>10.150149</td>\n",
       "      <td>50.312198</td>\n",
       "      <td>30.100141</td>\n",
       "    </tr>\n",
       "    <tr>\n",
       "      <th>1</th>\n",
       "      <td>14.029919</td>\n",
       "      <td>10.049908</td>\n",
       "      <td>50.230436</td>\n",
       "      <td>29.999896</td>\n",
       "      <td>14.028838</td>\n",
       "      <td>10.060367</td>\n",
       "      <td>50.251560</td>\n",
       "      <td>30.030084</td>\n",
       "      <td>14.114828</td>\n",
       "      <td>10.150317</td>\n",
       "      <td>50.301360</td>\n",
       "      <td>30.100084</td>\n",
       "    </tr>\n",
       "    <tr>\n",
       "      <th>2</th>\n",
       "      <td>14.031232</td>\n",
       "      <td>10.050093</td>\n",
       "      <td>50.229252</td>\n",
       "      <td>30.000005</td>\n",
       "      <td>14.013255</td>\n",
       "      <td>10.060159</td>\n",
       "      <td>50.260529</td>\n",
       "      <td>30.030003</td>\n",
       "      <td>14.099245</td>\n",
       "      <td>10.150109</td>\n",
       "      <td>50.310329</td>\n",
       "      <td>30.100003</td>\n",
       "    </tr>\n",
       "  </tbody>\n",
       "</table>\n",
       "</div>"
      ],
      "text/plain": [
       "    length_1   length_2    width_1      dia_1  err_length_1  err_length_2  \\\n",
       "0  14.023296  10.049557  50.230318  29.999849     14.018939     10.060199   \n",
       "1  14.029919  10.049908  50.230436  29.999896     14.028838     10.060367   \n",
       "2  14.031232  10.050093  50.229252  30.000005     14.013255     10.060159   \n",
       "\n",
       "   err_width_1  err_dia_1  bias_length_1  bias_length_2  bias_width_1  \\\n",
       "0    50.262398  30.030141      14.104929      10.150149     50.312198   \n",
       "1    50.251560  30.030084      14.114828      10.150317     50.301360   \n",
       "2    50.260529  30.030003      14.099245      10.150109     50.310329   \n",
       "\n",
       "   bias_dia_1  \n",
       "0   30.100141  \n",
       "1   30.100084  \n",
       "2   30.100003  "
      ]
     },
     "execution_count": 10,
     "metadata": {},
     "output_type": "execute_result"
    }
   ],
   "source": [
    "df5 = pd.concat([df3,df4], axis=1)\n",
    "df5.head(3)"
   ]
  },
  {
   "cell_type": "markdown",
   "metadata": {},
   "source": [
    "## Temperature"
   ]
  },
  {
   "cell_type": "markdown",
   "metadata": {},
   "source": [
    "The temperature was found to be 25 deg C. That was being measured by a piece of equipment with an accuracy of +/- 1 degree so it's likely that the temperature was between 24-26 degrees C."
   ]
  },
  {
   "cell_type": "code",
   "execution_count": 11,
   "metadata": {},
   "outputs": [
    {
     "data": {
      "image/png": "[encoded data removed]",
      "text/plain": [
       "<Figure size 432x288 with 1 Axes>"
      ]
     },
     "metadata": {
      "needs_background": "light"
     },
     "output_type": "display_data"
    },
    {
     "data": {
      "text/html": [
       "<div>\n",
       "<style scoped>\n",
       "    .dataframe tbody tr th:only-of-type {\n",
       "        vertical-align: middle;\n",
       "    }\n",
       "\n",
       "    .dataframe tbody tr th {\n",
       "        vertical-align: top;\n",
       "    }\n",
       "\n",
       "    .dataframe thead th {\n",
       "        text-align: right;\n",
       "    }\n",
       "</style>\n",
       "<table border=\"1\" class=\"dataframe\">\n",
       "  <thead>\n",
       "    <tr style=\"text-align: right;\">\n",
       "      <th></th>\n",
       "      <th>Temp_length_1</th>\n",
       "      <th>Temp_length_2</th>\n",
       "      <th>Temp_width_1</th>\n",
       "      <th>Temp_dia_1</th>\n",
       "    </tr>\n",
       "  </thead>\n",
       "  <tbody>\n",
       "    <tr>\n",
       "      <th>0</th>\n",
       "      <td>13.990924</td>\n",
       "      <td>10.040099</td>\n",
       "      <td>50.161985</td>\n",
       "      <td>29.970141</td>\n",
       "    </tr>\n",
       "    <tr>\n",
       "      <th>1</th>\n",
       "      <td>14.000813</td>\n",
       "      <td>10.040267</td>\n",
       "      <td>50.151159</td>\n",
       "      <td>29.970084</td>\n",
       "    </tr>\n",
       "    <tr>\n",
       "      <th>2</th>\n",
       "      <td>13.985246</td>\n",
       "      <td>10.040059</td>\n",
       "      <td>50.160118</td>\n",
       "      <td>29.970003</td>\n",
       "    </tr>\n",
       "  </tbody>\n",
       "</table>\n",
       "</div>"
      ],
      "text/plain": [
       "   Temp_length_1  Temp_length_2  Temp_width_1  Temp_dia_1\n",
       "0      13.990924      10.040099     50.161985   29.970141\n",
       "1      14.000813      10.040267     50.151159   29.970084\n",
       "2      13.985246      10.040059     50.160118   29.970003"
      ]
     },
     "execution_count": 11,
     "metadata": {},
     "output_type": "execute_result"
    }
   ],
   "source": [
    "import pandas as pd\n",
    "import numpy as np\n",
    "import matplotlib.pyplot as plt\n",
    "%matplotlib inline\n",
    "\n",
    "temp = np.random.uniform(24,26, 100)\n",
    "#temp\n",
    "count, bins, ignored = plt.hist(temp, 15, density=True)\n",
    "plt.plot(bins, np.ones_like(bins), linewidth=2, color='r')\n",
    "plt.show()\n",
    "\n",
    "df6 = pd.DataFrame({'Temp_length_1':length_1 * 0.999,'Temp_length_2':length_2 * 0.999,'Temp_width_1':width_1 * 0.999,'Temp_dia_1':dia_1 * 0.999})\n",
    "df6.head(3)"
   ]
  },
  {
   "cell_type": "markdown",
   "metadata": {},
   "source": [
    "Temperature compensation can be worked out individually for each measurement. It's fairly complex from what i've researched for this project in that both the equipment and the article under inspection change due to temperature, at different rates and often they don't grow or shrink uniformly. Since it is complex, lets assume a scale correction factor is known in this case. The correction scale factor is 0.999 (because the components were oversize). The formula for linear expansion can be seen below. "
   ]
  },
  {
   "cell_type": "markdown",
   "metadata": {},
   "source": [
    "$$\\Delta L = Lo * \\alpha * \\Delta T$$\n",
    "\n",
    "where \n",
    "Lo = oringinal length, alpha = CTE for material and Delta T = change in temperature from reference 20 Degrees C "
   ]
  },
  {
   "cell_type": "code",
   "execution_count": 12,
   "metadata": {},
   "outputs": [
    {
     "data": {
      "text/html": [
       "<div>\n",
       "<style scoped>\n",
       "    .dataframe tbody tr th:only-of-type {\n",
       "        vertical-align: middle;\n",
       "    }\n",
       "\n",
       "    .dataframe tbody tr th {\n",
       "        vertical-align: top;\n",
       "    }\n",
       "\n",
       "    .dataframe thead th {\n",
       "        text-align: right;\n",
       "    }\n",
       "</style>\n",
       "<table border=\"1\" class=\"dataframe\">\n",
       "  <thead>\n",
       "    <tr style=\"text-align: right;\">\n",
       "      <th></th>\n",
       "      <th>length_1</th>\n",
       "      <th>length_2</th>\n",
       "      <th>width_1</th>\n",
       "      <th>dia_1</th>\n",
       "      <th>err_length_1</th>\n",
       "      <th>err_length_2</th>\n",
       "      <th>err_width_1</th>\n",
       "      <th>err_dia_1</th>\n",
       "      <th>bias_length_1</th>\n",
       "      <th>bias_length_2</th>\n",
       "      <th>bias_width_1</th>\n",
       "      <th>bias_dia_1</th>\n",
       "      <th>Temp_length_1</th>\n",
       "      <th>Temp_length_2</th>\n",
       "      <th>Temp_width_1</th>\n",
       "      <th>Temp_dia_1</th>\n",
       "    </tr>\n",
       "  </thead>\n",
       "  <tbody>\n",
       "    <tr>\n",
       "      <th>0</th>\n",
       "      <td>14.023296</td>\n",
       "      <td>10.049557</td>\n",
       "      <td>50.230318</td>\n",
       "      <td>29.999849</td>\n",
       "      <td>14.018939</td>\n",
       "      <td>10.060199</td>\n",
       "      <td>50.262398</td>\n",
       "      <td>30.030141</td>\n",
       "      <td>14.104929</td>\n",
       "      <td>10.150149</td>\n",
       "      <td>50.312198</td>\n",
       "      <td>30.100141</td>\n",
       "      <td>13.990924</td>\n",
       "      <td>10.040099</td>\n",
       "      <td>50.161985</td>\n",
       "      <td>29.970141</td>\n",
       "    </tr>\n",
       "    <tr>\n",
       "      <th>1</th>\n",
       "      <td>14.029919</td>\n",
       "      <td>10.049908</td>\n",
       "      <td>50.230436</td>\n",
       "      <td>29.999896</td>\n",
       "      <td>14.028838</td>\n",
       "      <td>10.060367</td>\n",
       "      <td>50.251560</td>\n",
       "      <td>30.030084</td>\n",
       "      <td>14.114828</td>\n",
       "      <td>10.150317</td>\n",
       "      <td>50.301360</td>\n",
       "      <td>30.100084</td>\n",
       "      <td>14.000813</td>\n",
       "      <td>10.040267</td>\n",
       "      <td>50.151159</td>\n",
       "      <td>29.970084</td>\n",
       "    </tr>\n",
       "    <tr>\n",
       "      <th>2</th>\n",
       "      <td>14.031232</td>\n",
       "      <td>10.050093</td>\n",
       "      <td>50.229252</td>\n",
       "      <td>30.000005</td>\n",
       "      <td>14.013255</td>\n",
       "      <td>10.060159</td>\n",
       "      <td>50.260529</td>\n",
       "      <td>30.030003</td>\n",
       "      <td>14.099245</td>\n",
       "      <td>10.150109</td>\n",
       "      <td>50.310329</td>\n",
       "      <td>30.100003</td>\n",
       "      <td>13.985246</td>\n",
       "      <td>10.040059</td>\n",
       "      <td>50.160118</td>\n",
       "      <td>29.970003</td>\n",
       "    </tr>\n",
       "  </tbody>\n",
       "</table>\n",
       "</div>"
      ],
      "text/plain": [
       "    length_1   length_2    width_1      dia_1  err_length_1  err_length_2  \\\n",
       "0  14.023296  10.049557  50.230318  29.999849     14.018939     10.060199   \n",
       "1  14.029919  10.049908  50.230436  29.999896     14.028838     10.060367   \n",
       "2  14.031232  10.050093  50.229252  30.000005     14.013255     10.060159   \n",
       "\n",
       "   err_width_1  err_dia_1  bias_length_1  bias_length_2  bias_width_1  \\\n",
       "0    50.262398  30.030141      14.104929      10.150149     50.312198   \n",
       "1    50.251560  30.030084      14.114828      10.150317     50.301360   \n",
       "2    50.260529  30.030003      14.099245      10.150109     50.310329   \n",
       "\n",
       "   bias_dia_1  Temp_length_1  Temp_length_2  Temp_width_1  Temp_dia_1  \n",
       "0   30.100141      13.990924      10.040099     50.161985   29.970141  \n",
       "1   30.100084      14.000813      10.040267     50.151159   29.970084  \n",
       "2   30.100003      13.985246      10.040059     50.160118   29.970003  "
      ]
     },
     "execution_count": 12,
     "metadata": {},
     "output_type": "execute_result"
    }
   ],
   "source": [
    "df7 = pd.concat([df5,df6], axis=1)\n",
    "df7.head(3)"
   ]
  },
  {
   "cell_type": "markdown",
   "metadata": {},
   "source": [
    "So the dataset is almost complete at this stage. It's not completely accurate in it's approach since it's ficticious. The order in which i've created the data might actually have to change for example, should i correct for temperature first then correct for Bias or vice versa and then calulate overall error? In a real situation this would involve some testing of the phenomena but at least i have the code created and as such it's possible to quickly rearrange this data and re-calculate if needed.  "
   ]
  },
  {
   "cell_type": "markdown",
   "metadata": {},
   "source": [
    "## Uncertainty"
   ]
  },
  {
   "cell_type": "markdown",
   "metadata": {},
   "source": [
    "The dataset needs one more column before it's complete. That is an uncertainty estimate. Again, this is synthetic but it is the priciple that is important. We are being asked to determine if the components measured are correct and or determine if they might be out of specification. "
   ]
  },
  {
   "cell_type": "markdown",
   "metadata": {},
   "source": [
    "We now have the data to determine this. We'll need to find our type A uncertainties and Type B uncertainties, get them in the same standard uncertainty and sum them. For example:  "
   ]
  },
  {
   "cell_type": "markdown",
   "metadata": {},
   "source": [
    "Calculating Type A Uncertainty"
   ]
  },
  {
   "cell_type": "markdown",
   "metadata": {},
   "source": [
    "I have taken 100 readings above. They should be corrected before use. I have already corrected for bias and temperature so i will use the mean and standard deviation of the temperature corrected columns in dataframe 7. The formula below shows how to calculate the estimated standard deviation of the mean.It's already created but showing how it would normally be done.\n",
    "\n",
    "$u = \\frac{S}{\\sqrt{n}}$"
   ]
  },
  {
   "cell_type": "code",
   "execution_count": 13,
   "metadata": {},
   "outputs": [
    {
     "name": "stdout",
     "output_type": "stream",
     "text": [
      "0.000481195054045457\n",
      "3.651588894246363e-05\n",
      "0.00040699832293875933\n",
      "9.255437684365893e-06\n"
     ]
    }
   ],
   "source": [
    "#np.mean(length_1)\n",
    "#np.std(length_1)\n",
    "\n",
    "# to avoid too manu underscores in var names, calling length_1 ft1, length_2 ft2, width_1 ft3 and dia_1 ft4 \n",
    "\n",
    "import math\n",
    "\n",
    "n=100\n",
    "mean_ft1 = df7['Temp_length_1'].mean()\n",
    "stdev_ft1 = df7['Temp_length_1'].std()\n",
    "\n",
    "mean_ft2 = df7['Temp_length_2'].mean()\n",
    "stdev_ft2 = df7['Temp_length_2'].std()\n",
    "\n",
    "mean_ft3 = df7['Temp_width_1'].mean()\n",
    "stdev_ft3 = df7['Temp_width_1'].std()\n",
    "\n",
    "mean_ft4 = df7['Temp_dia_1'].mean()\n",
    "stdev_ft4 = df7['Temp_dia_1'].std()\n",
    "\n",
    "type_A_length_1 = stdev_ft1/math.sqrt(n)\n",
    "type_A_length_2 = stdev_ft2/math.sqrt(n)\n",
    "type_A_width_1 = stdev_ft3/math.sqrt(n)\n",
    "type_A_dia_1 = stdev_ft4/math.sqrt(n)\n",
    "\n",
    "\n",
    "print(type_A_length_1)\n",
    "print(type_A_length_2)\n",
    "print(type_A_width_1)\n",
    "print(type_A_dia_1)"
   ]
  },
  {
   "cell_type": "markdown",
   "metadata": {},
   "source": [
    "Calculating Type B Uncertainty"
   ]
  },
  {
   "cell_type": "markdown",
   "metadata": {},
   "source": [
    "It was stated above that the verification had an uncertainty of 0.1% of mean reading. "
   ]
  },
  {
   "cell_type": "code",
   "execution_count": 20,
   "metadata": {},
   "outputs": [
    {
     "name": "stdout",
     "output_type": "stream",
     "text": [
      "0.006998712233893808\n",
      "0.005020006604976791\n",
      "0.025079524790575486\n",
      "0.014985000387120551\n"
     ]
    }
   ],
   "source": [
    "ver_ft1 = ((mean_ft1/100)*0.1) /2\n",
    "ver_ft2 = ((mean_ft2/100)*0.1) /2\n",
    "ver_ft3 = ((mean_ft3/100)*0.1) /2\n",
    "ver_ft4 = ((mean_ft4/100)*0.1) /2\n",
    "\n",
    "print(ver_ft1)\n",
    "print(ver_ft2)\n",
    "print(ver_ft3)\n",
    "print(ver_ft4)"
   ]
  },
  {
   "cell_type": "markdown",
   "metadata": {},
   "source": [
    "The divisions on the scale of the instrument have a resolution of +/- 0.001. I'll assume uniform distribution since the values can likely fall anywhere between 0.002 or +/-0.001. This applies to all features."
   ]
  },
  {
   "cell_type": "code",
   "execution_count": 23,
   "metadata": {},
   "outputs": [
    {
     "name": "stdout",
     "output_type": "stream",
     "text": [
      "0.0005773502691896258\n"
     ]
    }
   ],
   "source": [
    "res = 0.001\n",
    "res_uncert = res/math.sqrt(3)\n",
    "\n",
    "print(res_uncert)"
   ]
  },
  {
   "cell_type": "markdown",
   "metadata": {},
   "source": [
    "I'm going to use the following formula to get my overall uncertainty. Hopefully all my deviations are now in the same confidence level\n",
    "$$u = \\sqrt{type A^2 +type B^2}$$"
   ]
  },
  {
   "cell_type": "code",
   "execution_count": 26,
   "metadata": {},
   "outputs": [
    {
     "name": "stdout",
     "output_type": "stream",
     "text": [
      "0.12694296008151765\n",
      "0.10614963742857421\n",
      "0.22831501651316705\n",
      "0.17647439527588438\n"
     ]
    }
   ],
   "source": [
    "ulength_1 = math.sqrt(type_A_length_1*2 + ver_ft1*2 + res_uncert*2)\n",
    "ulength_2 = math.sqrt(type_A_length_2*2 + ver_ft2*2 + res_uncert*2)\n",
    "uwidth_1 = math.sqrt(type_A_width_1*2 + ver_ft3*2 + res_uncert*2)\n",
    "udia_1 = math.sqrt(type_A_dia_1*2 + ver_ft4*2 + res_uncert*2)\n",
    "\n",
    "print(ulength_1)\n",
    "print(ulength_2)\n",
    "print(uwidth_1)\n",
    "print(udia_1)"
   ]
  },
  {
   "cell_type": "code",
   "execution_count": null,
   "metadata": {},
   "outputs": [],
   "source": []
  }
 ],
 "metadata": {
  "kernelspec": {
   "display_name": "Python 3",
   "language": "python",
   "name": "python3"
  },
  "language_info": {
   "codemirror_mode": {
    "name": "ipython",
    "version": 3
   },
   "file_extension": ".py",
   "mimetype": "text/x-python",
   "name": "python",
   "nbconvert_exporter": "python",
   "pygments_lexer": "ipython3",
   "version": "3.6.6"
  }
 },
 "nbformat": 4,
 "nbformat_minor": 2
}
