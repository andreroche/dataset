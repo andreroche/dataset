{
 "cells": [
  {
   "cell_type": "markdown",
   "metadata": {},
   "source": [
    "## Background"
   ]
  },
  {
   "cell_type": "markdown",
   "metadata": {},
   "source": [
    "Uncertainty is a facininating concept. It is extremely vast and applies to almost all aspects of life. You could spend your entire life learning about it and still not understand all of it.\n",
    "Uncertainty is everywhere, in everything we do. For example, uncertainty affects the economy in many ways. Peoples attitude to spending are usually based on their level of confidence in the economy. Uncertainty of our future climate drives us to recycle more, burn more efficient fuel, reduce our emmisions and respect the environment. In a sense, it is almost motivational as once we are aware of something, we typically strive to improve it.\n",
    "In science, we frequently measure or observe things. We do this so that we can understand them better. By putting a measure on something it allows us to describe something, to visualise it or to comprehend it. Humans will design an experiment or build a model to test or measure a phenomenon and uncertainty will be the measure of the doubt that exists about the result or prediction. "
   ]
  },
  {
   "cell_type": "markdown",
   "metadata": {},
   "source": [
    "## Project - Dataset"
   ]
  },
  {
   "cell_type": "markdown",
   "metadata": {},
   "source": [
    "This project will focus on the field of dimensional metrology and more specifically, measurement systems. A measurement system might be described as a system encompassing the measuring instrument, the software, firmware, people/users, environment, method and the articles that they inspect. When designing a measurement system many aspects must be considered but ultimately the system should have an acceptable accuracy and variance for what it is designed to inspect. In conjunction with this, each measurement result should be accompanied by an uncertainty value since no measurement is ever perfect. When a measurement is taken, many phenomena can occur to influence that result and generally speaking that influence could be captured in the overall uncertainty. Estimating this uncertainy, it is possible to mitigate for the risk of misclassification based off results/observations made.         "
   ]
  },
  {
   "cell_type": "markdown",
   "metadata": {},
   "source": [
    "## Scenario"
   ]
  },
  {
   "cell_type": "markdown",
   "metadata": {},
   "source": [
    "You are asked to provide consultation to an aerospace company that manufactures a component. Post manufacture it inspects each component dimensionally to ensure it meets design intent/criteria. The component itself has 4 geometric features that must be verified through inspection, each having a nominal size and an associated tolerance. A measurement system is used to inspect the components to meet volume requirements. There is an issue with this component when it comes to final assembly. It is not fitting with other components at the final assembly plant located in another country. The equipment was installed correctly, has all the necessary certified paperwork and is passing its daily qualification checks. What is going on?\n",
    "\n",
    "The brief of the project is to create a synthetic dataset. This dataset will attempt to capture what the above situation might look like (in a fairly simplistic approach with assumptions) if it were a real investigation of the measurement phenomenon and try to answer some additional questions along the way."
   ]
  },
  {
   "cell_type": "markdown",
   "metadata": {},
   "source": [
    "## Investigation"
   ]
  },
  {
   "cell_type": "markdown",
   "metadata": {},
   "source": [
    "Investigation starts with the component. It has four geometric features that are inspected. They are relatively simple in terms of geometric complexity. Two features are lengths, one is a width and other is a diameter. There are no complex surfaces or advanced geometric constraints to be inspected.\n",
    "\n",
    "The features are:\n",
    "\n",
    "$$length_1 = 14.010mm +/- 0.020$$\n",
    "$$length_2 = 10.050mm +/- 0.050$$ \n",
    "$$width_1  =  50.200mm +/- 0.100$$ \n",
    "$$dia_1 = 30.000mm +/- 0.070$$\n",
    "\n",
    "Instruments:\n",
    "\n",
    "It was found that the instrument is a coordinate measuring machine, often referred to as 'CMM'. For now lets call it instrument_1\n",
    "It has an old calibration certificate stating the equipments maximum permissable error for error of length indication. After speaking with the OEM, it is understood that this is essentially an accuracy statement for the equipment when measuring length type features.\n",
    "\n",
    "It is stated in linear type form:  MPEE  = X + L/K   where X and K are constants. (x = um, L = mm, K = no units)\n",
    "\n",
    "$$MPEe  = 2.8 + L/1000$$\n",
    "\n",
    "The certificate shows that instrument_1 was verified but not calibrated and 2 months ago. It is noted that instrument_1 has a negative bias of 0.005mm. As it was only verified and not calibrated, no adjustment was made for this. The instrument does not exibit any other systematic errors.\n",
    "The verification stated a verification uncertainty of 0.1% of mean readings.\n",
    "The divisions on the scale of the instrument have a resolution of +/- 0.001mm.\n",
    "\n",
    "Users:\n",
    "\n",
    "Looking at user of the measurement system, It was discovered that one operator was responsible for running the system.\n",
    "Mary ran instrument_1 and was quite experienced. A standardised method for use of the equipment was also in place. \n",
    "\n",
    "Environment:\n",
    "\n",
    "Instrument_1 was located in a temperature controlled room cerified at 19-21 deg C. However, the climate control was malfunctioning and the temperature was found to be at a static 25 Deg C.\n"
   ]
  },
  {
   "cell_type": "markdown",
   "metadata": {},
   "source": [
    "## Summary of Investigation"
   ]
  },
  {
   "cell_type": "markdown",
   "metadata": {},
   "source": [
    "After further investigation I decide the following:\n",
    "\n",
    "(1) I need to pull some previous data on measurements and review the results for each feature (2) I need to calculate what the likely instrument error is for measurements of each feature (3) I need to compensate for bias in the equipment (4) I need to investigate the effects of temperature (5) estimate any likely variance (6) estimate what the overall uncertainty might be and (7) analyse the data and generate any conclusions.  "
   ]
  },
  {
   "cell_type": "markdown",
   "metadata": {},
   "source": [
    "## Simulating the results from 100 components"
   ]
  },
  {
   "cell_type": "markdown",
   "metadata": {},
   "source": [
    "I would expect the results to be normally distributed for each feature. I'm going to make a few assumptions here. Having reviewed the measurment results I found that length_1 and width_1 were manufactured above centre/target nominal. The other features were relatively centred on nominal. All data should be floating point numbers and should be positive values based on the specifications above."
   ]
  },
  {
   "cell_type": "code",
   "execution_count": 213,
   "metadata": {
    "scrolled": true
   },
   "outputs": [],
   "source": [
    "import pandas as pd\n",
    "import numpy as np\n",
    "import matplotlib.pyplot as plt\n",
    "import seaborn as sns\n",
    "from scipy import stats\n",
    "%matplotlib inline\n",
    "\n",
    "\n",
    "#define the features, 100 samples each having different stdev and means\n",
    "length_1 = np.random.normal(14.011, 0.007, 100)\n",
    "length_2 = np.random.normal(10.050, 0.008, 100)\n",
    "width_1 = np.random.normal(50.210, 0.009, 100)\n",
    "dia_1 = np.random.normal(30.000, 0.008, 100)\n",
    "\n",
    "# type 'variable name' to view the array of data. I just don't need to see it yet\n",
    "\n",
    "df = pd.DataFrame({'length_1':np.random.normal(14.027, 0.005, 100),'length_2':np.random.normal(10.050, 0.001, 100),'width_1':np.random.normal(50.228, 0.003, 100),'dia_1':np.random.normal(30.000, 0.0001, 100)}) \n",
    "\n",
    "#df.head(3)"
   ]
  },
  {
   "cell_type": "code",
   "execution_count": 214,
   "metadata": {},
   "outputs": [
    {
     "data": {
      "image/png": "[encoded data removed]",
      "text/plain": [
       "<Figure size 1296x216 with 4 Axes>"
      ]
     },
     "metadata": {
      "needs_background": "light"
     },
     "output_type": "display_data"
    }
   ],
   "source": [
    "# a quick visual check of the data in the dataframe using pandas.\n",
    "hist = df.hist(bins=15,figsize=(18,3), layout=(1,4))\n",
    "\n"
   ]
  },
  {
   "cell_type": "markdown",
   "metadata": {},
   "source": [
    "## Instrument Accuracy\n"
   ]
  },
  {
   "cell_type": "code",
   "execution_count": 215,
   "metadata": {},
   "outputs": [
    {
     "name": "stdout",
     "output_type": "stream",
     "text": [
      "Approximate Errors are\n",
      "0.0028 0.0028 0.0029 0.0028\n"
     ]
    }
   ],
   "source": [
    "mpe = 2.8\n",
    "err_length_1 = (2.8 + 14.010/1000)/1000\n",
    "err_length_2 = (2.8 + 10.050/1000)/1000\n",
    "err_width_1 = (2.8 + 50.200/1000)/1000\n",
    "err_dia_1 = (2.8 + 30.000/1000)/1000\n",
    "\n",
    "print(\"Approximate Errors are\")\n",
    "print (\"%.4f\" %err_length_1, \"%.4f\"% err_length_2,\"%.4f\"% err_width_1,\"%.4f\"% err_dia_1)"
   ]
  },
  {
   "cell_type": "markdown",
   "metadata": {},
   "source": [
    "This gives me an idea of the likely accuracy associated with each feature when using this specific instrument. It's a first step in looking for any potential misclassification issues but it doesn't tell the entire story. Since the parts are not actually all the same length maybe a better way to estimate this would be to apply the formula to each result obtained in the 100 samples and then add that (or take away) to either the same dataframe or a seperate one and then join them. For the purpose of this exercise, lets assume that i'm only interested in the positive error since the components are not fitting in final assembly and it is assumed they are too large."
   ]
  },
  {
   "cell_type": "code",
   "execution_count": 216,
   "metadata": {},
   "outputs": [],
   "source": [
    "df1 = pd.DataFrame({'err_length_1':err_length_1 + length_1,'err_length_2':err_length_2 + length_2,'err_width_1':err_width_1 + width_1,'err_dia_1':err_dia_1 + dia_1})\n",
    "#df1.head(3)"
   ]
  },
  {
   "cell_type": "code",
   "execution_count": 217,
   "metadata": {},
   "outputs": [],
   "source": [
    "left = df\n",
    "right = df1\n",
    "df3 = pd.concat([df,df1], axis=1)\n",
    "#df3.head(3)"
   ]
  },
  {
   "cell_type": "markdown",
   "metadata": {},
   "source": [
    "## Bias"
   ]
  },
  {
   "cell_type": "markdown",
   "metadata": {},
   "source": [
    "As mentioned earlier the calibration certificate stated a negative systematic error of 5.0um or 0.005mm. The instrument was falsely reading 0.005 too low. This will have to be added to dataset."
   ]
  },
  {
   "cell_type": "code",
   "execution_count": 218,
   "metadata": {},
   "outputs": [],
   "source": [
    "bias = 0.005\n",
    "df4 = df1 = pd.DataFrame({'bias_length_1':length_1 + bias,'bias_length_2':length_2 + bias,'bias_width_1':width_1 + bias,'bias_dia_1':dia_1 + bias})\n",
    "#df4.head(3)\n",
    "bias_length_1 = length_1 + bias\n",
    "bias_length_2 = length_2 + bias\n",
    "bias_width_1 = width_1 + bias\n",
    "bias_dia_1 = dia_1 + bias"
   ]
  },
  {
   "cell_type": "code",
   "execution_count": 219,
   "metadata": {},
   "outputs": [],
   "source": [
    "df5 = pd.concat([df3,df4], axis=1)\n",
    "#df5.head(3)"
   ]
  },
  {
   "cell_type": "markdown",
   "metadata": {},
   "source": [
    "## Temperature"
   ]
  },
  {
   "cell_type": "markdown",
   "metadata": {},
   "source": [
    "The temperature was found to be 25 deg C. That was being measured by a piece of equipment with an accuracy of +/- 1 degree so it's likely that the temperature was between 24-26 degrees C."
   ]
  },
  {
   "cell_type": "code",
   "execution_count": 220,
   "metadata": {},
   "outputs": [
    {
     "data": {
      "image/png": "[encoded data removed]",
      "text/plain": [
       "<Figure size 432x288 with 1 Axes>"
      ]
     },
     "metadata": {
      "needs_background": "light"
     },
     "output_type": "display_data"
    }
   ],
   "source": [
    "import pandas as pd\n",
    "import numpy as np\n",
    "import matplotlib.pyplot as plt\n",
    "%matplotlib inline\n",
    "\n",
    "sc_factor = 0.999\n",
    "temp = np.random.uniform(24,26, 100)\n",
    "#temp\n",
    "count, bins, ignored = plt.hist(temp, 18, density=True)\n",
    "plt.plot(bins, np.ones_like(bins), linewidth=2, color='r')\n",
    "plt.show()\n",
    "\n",
    "df6 = pd.DataFrame({'Temp_length_1':bias_length_1 * sc_factor,'Temp_length_2':bias_length_2 * sc_factor,'Temp_width_1':bias_width_1 * sc_factor,'Temp_dia_1':bias_dia_1 * sc_factor})\n",
    "#df6.head(3)"
   ]
  },
  {
   "cell_type": "markdown",
   "metadata": {},
   "source": [
    "Temperature compensation can be worked out individually for each measurement. It's fairly complex from what i've researched for this project in that both the equipment and the article under inspection change due to temperature, at different rates and often they don't grow or shrink uniformly. Since it is complex, lets assume a scale correction factor is known in this case. The correction scale factor is 0.999 (because the components were oversize). The formula for linear expansion can be seen below. "
   ]
  },
  {
   "cell_type": "markdown",
   "metadata": {},
   "source": [
    "$$\\Delta L = Lo * \\alpha * \\Delta T$$\n",
    "\n",
    "where \n",
    "Lo = oringinal length, alpha = CTE for material and Delta T = change in temperature from reference 20 Degrees C "
   ]
  },
  {
   "cell_type": "code",
   "execution_count": 221,
   "metadata": {},
   "outputs": [
    {
     "data": {
      "text/html": [
       "<div>\n",
       "<style scoped>\n",
       "    .dataframe tbody tr th:only-of-type {\n",
       "        vertical-align: middle;\n",
       "    }\n",
       "\n",
       "    .dataframe tbody tr th {\n",
       "        vertical-align: top;\n",
       "    }\n",
       "\n",
       "    .dataframe thead th {\n",
       "        text-align: right;\n",
       "    }\n",
       "</style>\n",
       "<table border=\"1\" class=\"dataframe\">\n",
       "  <thead>\n",
       "    <tr style=\"text-align: right;\">\n",
       "      <th></th>\n",
       "      <th>length_1</th>\n",
       "      <th>length_2</th>\n",
       "      <th>width_1</th>\n",
       "      <th>dia_1</th>\n",
       "      <th>err_length_1</th>\n",
       "      <th>err_length_2</th>\n",
       "      <th>err_width_1</th>\n",
       "      <th>err_dia_1</th>\n",
       "      <th>bias_length_1</th>\n",
       "      <th>bias_length_2</th>\n",
       "      <th>bias_width_1</th>\n",
       "      <th>bias_dia_1</th>\n",
       "      <th>Temp_length_1</th>\n",
       "      <th>Temp_length_2</th>\n",
       "      <th>Temp_width_1</th>\n",
       "      <th>Temp_dia_1</th>\n",
       "    </tr>\n",
       "  </thead>\n",
       "  <tbody>\n",
       "    <tr>\n",
       "      <th>0</th>\n",
       "      <td>14.022714</td>\n",
       "      <td>10.049974</td>\n",
       "      <td>50.226676</td>\n",
       "      <td>29.999954</td>\n",
       "      <td>14.013264</td>\n",
       "      <td>10.054659</td>\n",
       "      <td>50.196985</td>\n",
       "      <td>30.010146</td>\n",
       "      <td>14.015450</td>\n",
       "      <td>10.056849</td>\n",
       "      <td>50.199134</td>\n",
       "      <td>30.012316</td>\n",
       "      <td>14.001434</td>\n",
       "      <td>10.046792</td>\n",
       "      <td>50.148935</td>\n",
       "      <td>29.982304</td>\n",
       "    </tr>\n",
       "    <tr>\n",
       "      <th>1</th>\n",
       "      <td>14.029784</td>\n",
       "      <td>10.048365</td>\n",
       "      <td>50.232465</td>\n",
       "      <td>29.999925</td>\n",
       "      <td>14.023953</td>\n",
       "      <td>10.060041</td>\n",
       "      <td>50.213631</td>\n",
       "      <td>30.011886</td>\n",
       "      <td>14.026139</td>\n",
       "      <td>10.062231</td>\n",
       "      <td>50.215780</td>\n",
       "      <td>30.014056</td>\n",
       "      <td>14.012113</td>\n",
       "      <td>10.052168</td>\n",
       "      <td>50.165565</td>\n",
       "      <td>29.984042</td>\n",
       "    </tr>\n",
       "    <tr>\n",
       "      <th>2</th>\n",
       "      <td>14.037025</td>\n",
       "      <td>10.049557</td>\n",
       "      <td>50.227926</td>\n",
       "      <td>29.999978</td>\n",
       "      <td>14.011200</td>\n",
       "      <td>10.059844</td>\n",
       "      <td>50.201010</td>\n",
       "      <td>29.988586</td>\n",
       "      <td>14.013386</td>\n",
       "      <td>10.062034</td>\n",
       "      <td>50.203160</td>\n",
       "      <td>29.990756</td>\n",
       "      <td>13.999373</td>\n",
       "      <td>10.051972</td>\n",
       "      <td>50.152957</td>\n",
       "      <td>29.960765</td>\n",
       "    </tr>\n",
       "  </tbody>\n",
       "</table>\n",
       "</div>"
      ],
      "text/plain": [
       "    length_1   length_2    width_1      dia_1  err_length_1  err_length_2  \\\n",
       "0  14.022714  10.049974  50.226676  29.999954     14.013264     10.054659   \n",
       "1  14.029784  10.048365  50.232465  29.999925     14.023953     10.060041   \n",
       "2  14.037025  10.049557  50.227926  29.999978     14.011200     10.059844   \n",
       "\n",
       "   err_width_1  err_dia_1  bias_length_1  bias_length_2  bias_width_1  \\\n",
       "0    50.196985  30.010146      14.015450      10.056849     50.199134   \n",
       "1    50.213631  30.011886      14.026139      10.062231     50.215780   \n",
       "2    50.201010  29.988586      14.013386      10.062034     50.203160   \n",
       "\n",
       "   bias_dia_1  Temp_length_1  Temp_length_2  Temp_width_1  Temp_dia_1  \n",
       "0   30.012316      14.001434      10.046792     50.148935   29.982304  \n",
       "1   30.014056      14.012113      10.052168     50.165565   29.984042  \n",
       "2   29.990756      13.999373      10.051972     50.152957   29.960765  "
      ]
     },
     "execution_count": 221,
     "metadata": {},
     "output_type": "execute_result"
    }
   ],
   "source": [
    "df7 = pd.concat([df5,df6], axis=1)\n",
    "df7.head(3)"
   ]
  },
  {
   "cell_type": "markdown",
   "metadata": {},
   "source": [
    "So the dataset is almost complete at this stage. It's not completely accurate in it's approach since it's ficticious. The order in which i've created the data might actually have to change for example, should i correct for temperature first then correct for Bias or vice versa and then calulate overall error? In a real situation this would involve some testing of the phenomena but at least i have the code created and as such it's possible to quickly rearrange this data and re-calculate if needed.  "
   ]
  },
  {
   "cell_type": "markdown",
   "metadata": {},
   "source": [
    "## Uncertainty"
   ]
  },
  {
   "cell_type": "markdown",
   "metadata": {},
   "source": [
    "The dataset needs one more block of information before it's complete. That is an uncertainty estimate. Again, this is synthetic but it is the priciple that is important. We are being asked to determine if the components measured are correct and or determine if they might be out of specification. We now have the data to determine this. We'll need to find our type A uncertainties and Type B uncertainties, get them in the same standard uncertainty and sum them."
   ]
  },
  {
   "cell_type": "markdown",
   "metadata": {},
   "source": [
    "### Calculating Type A Uncertainty"
   ]
  },
  {
   "cell_type": "markdown",
   "metadata": {},
   "source": [
    "I have taken 100 readings above. They should be corrected before use. I have already corrected for bias and temperature so i will use the mean and standard deviation of the temperature corrected columns in dataframe 7. The formula below shows how to calculate the estimated standard deviation of the mean.It's already created but showing how it would normally be done.\n",
    "\n",
    "$u = \\frac{S}{\\sqrt{n}}$"
   ]
  },
  {
   "cell_type": "code",
   "execution_count": 222,
   "metadata": {},
   "outputs": [
    {
     "name": "stdout",
     "output_type": "stream",
     "text": [
      "0.000712\n",
      "0.000884\n",
      "0.000867\n",
      "0.000814\n"
     ]
    }
   ],
   "source": [
    "#np.mean(length_1)\n",
    "#np.std(length_1)\n",
    "\n",
    "# to avoid too many underscores in var names, calling length_1 ft1, length_2 ft2, width_1 ft3 and dia_1 ft4 \n",
    "\n",
    "import math\n",
    "\n",
    "n=100\n",
    "mean_ft1 = df7['Temp_length_1'].mean()\n",
    "stdev_ft1 = df7['Temp_length_1'].std()\n",
    "\n",
    "mean_ft2 = df7['Temp_length_2'].mean()\n",
    "stdev_ft2 = df7['Temp_length_2'].std()\n",
    "\n",
    "mean_ft3 = df7['Temp_width_1'].mean()\n",
    "stdev_ft3 = df7['Temp_width_1'].std()\n",
    "\n",
    "mean_ft4 = df7['Temp_dia_1'].mean()\n",
    "stdev_ft4 = df7['Temp_dia_1'].std()\n",
    "\n",
    "type_A_length_1 = stdev_ft1/math.sqrt(n)\n",
    "type_A_length_2 = stdev_ft2/math.sqrt(n)\n",
    "type_A_width_1 = stdev_ft3/math.sqrt(n)\n",
    "type_A_dia_1 = stdev_ft4/math.sqrt(n)\n",
    "\n",
    "\n",
    "print(\"%.6f\" % type_A_length_1)\n",
    "print(\"%.6f\" % type_A_length_2)\n",
    "print(\"%.6f\" % type_A_width_1)\n",
    "print(\"%.6f\" % type_A_dia_1)"
   ]
  },
  {
   "cell_type": "markdown",
   "metadata": {},
   "source": [
    "### Calculating Type B Uncertainty"
   ]
  },
  {
   "cell_type": "markdown",
   "metadata": {},
   "source": [
    "It was stated above that the verification had an uncertainty of 0.1% of mean reading. "
   ]
  },
  {
   "cell_type": "code",
   "execution_count": 223,
   "metadata": {},
   "outputs": [
    {
     "name": "stdout",
     "output_type": "stream",
     "text": [
      "0.007000\n",
      "0.005023\n",
      "0.025082\n",
      "0.014988\n"
     ]
    }
   ],
   "source": [
    "ver_ft1 = ((mean_ft1/100)*0.1) /2\n",
    "ver_ft2 = ((mean_ft2/100)*0.1) /2\n",
    "ver_ft3 = ((mean_ft3/100)*0.1) /2\n",
    "ver_ft4 = ((mean_ft4/100)*0.1) /2\n",
    "\n",
    "print(\"%.6f\" % ver_ft1)\n",
    "print(\"%.6f\" % ver_ft2)\n",
    "print(\"%.6f\" % ver_ft3)\n",
    "print(\"%.6f\" % ver_ft4)"
   ]
  },
  {
   "cell_type": "markdown",
   "metadata": {},
   "source": [
    "The divisions on the scale of the instrument have a resolution of +/- 0.001. I'll assume uniform distribution since the values can likely fall anywhere between 0.002 or +/-0.001. This applies to all features."
   ]
  },
  {
   "cell_type": "code",
   "execution_count": 224,
   "metadata": {},
   "outputs": [
    {
     "name": "stdout",
     "output_type": "stream",
     "text": [
      "0.000577\n"
     ]
    }
   ],
   "source": [
    "res = 0.001\n",
    "res_uncert = res/math.sqrt(3)\n",
    "\n",
    "print(\"%.6f\" % res_uncert)"
   ]
  },
  {
   "cell_type": "markdown",
   "metadata": {},
   "source": [
    "I'm going to use the following formula to get my overall uncertainty. Hopefully all my deviations are now in the same confidence level of 95% or K=2.\n",
    "\n",
    "$$u = \\sqrt{type A^2 +type B^2}$$"
   ]
  },
  {
   "cell_type": "code",
   "execution_count": 225,
   "metadata": {},
   "outputs": [
    {
     "name": "stdout",
     "output_type": "stream",
     "text": [
      "0.007060\n",
      "0.005133\n",
      "0.025104\n",
      "0.015021\n"
     ]
    }
   ],
   "source": [
    "ulength_1 = math.sqrt(type_A_length_1**2 + ver_ft1**2 + res_uncert**2)\n",
    "ulength_2 = math.sqrt(type_A_length_2**2 + ver_ft2**2 + res_uncert**2)\n",
    "uwidth_1 = math.sqrt(type_A_width_1**2 + ver_ft3**2 + res_uncert**2)\n",
    "udia_1 = math.sqrt(type_A_dia_1**2 + ver_ft4**2 + res_uncert**2)\n",
    "\n",
    "print(\"%.6f\" % ulength_1)\n",
    "print(\"%.6f\" % ulength_2)\n",
    "print(\"%.6f\" % uwidth_1)\n",
    "print(\"%.6f\" % udia_1)"
   ]
  },
  {
   "cell_type": "code",
   "execution_count": 226,
   "metadata": {},
   "outputs": [
    {
     "data": {
      "text/html": [
       "<div>\n",
       "<style scoped>\n",
       "    .dataframe tbody tr th:only-of-type {\n",
       "        vertical-align: middle;\n",
       "    }\n",
       "\n",
       "    .dataframe tbody tr th {\n",
       "        vertical-align: top;\n",
       "    }\n",
       "\n",
       "    .dataframe thead th {\n",
       "        text-align: right;\n",
       "    }\n",
       "</style>\n",
       "<table border=\"1\" class=\"dataframe\">\n",
       "  <thead>\n",
       "    <tr style=\"text-align: right;\">\n",
       "      <th></th>\n",
       "      <th>length_1</th>\n",
       "      <th>length_2</th>\n",
       "      <th>width_1</th>\n",
       "      <th>dia_1</th>\n",
       "      <th>err_length_1</th>\n",
       "      <th>err_length_2</th>\n",
       "      <th>err_width_1</th>\n",
       "      <th>err_dia_1</th>\n",
       "      <th>bias_length_1</th>\n",
       "      <th>bias_length_2</th>\n",
       "      <th>...</th>\n",
       "      <th>Temp_width_1</th>\n",
       "      <th>Temp_dia_1</th>\n",
       "      <th>posulength_1</th>\n",
       "      <th>negulength_1</th>\n",
       "      <th>posulength_2</th>\n",
       "      <th>negulength_2</th>\n",
       "      <th>posuwidth_1</th>\n",
       "      <th>neguwidth_1</th>\n",
       "      <th>posudia_1</th>\n",
       "      <th>negudia_1</th>\n",
       "    </tr>\n",
       "  </thead>\n",
       "  <tbody>\n",
       "    <tr>\n",
       "      <th>0</th>\n",
       "      <td>14.022714</td>\n",
       "      <td>10.049974</td>\n",
       "      <td>50.226676</td>\n",
       "      <td>29.999954</td>\n",
       "      <td>14.013264</td>\n",
       "      <td>10.054659</td>\n",
       "      <td>50.196985</td>\n",
       "      <td>30.010146</td>\n",
       "      <td>14.015450</td>\n",
       "      <td>10.056849</td>\n",
       "      <td>...</td>\n",
       "      <td>50.148935</td>\n",
       "      <td>29.982304</td>\n",
       "      <td>14.003499</td>\n",
       "      <td>13.989379</td>\n",
       "      <td>10.046930</td>\n",
       "      <td>10.036664</td>\n",
       "      <td>50.169044</td>\n",
       "      <td>50.118836</td>\n",
       "      <td>29.992330</td>\n",
       "      <td>29.962288</td>\n",
       "    </tr>\n",
       "    <tr>\n",
       "      <th>1</th>\n",
       "      <td>14.029784</td>\n",
       "      <td>10.048365</td>\n",
       "      <td>50.232465</td>\n",
       "      <td>29.999925</td>\n",
       "      <td>14.023953</td>\n",
       "      <td>10.060041</td>\n",
       "      <td>50.213631</td>\n",
       "      <td>30.011886</td>\n",
       "      <td>14.026139</td>\n",
       "      <td>10.062231</td>\n",
       "      <td>...</td>\n",
       "      <td>50.165565</td>\n",
       "      <td>29.984042</td>\n",
       "      <td>14.014178</td>\n",
       "      <td>14.000058</td>\n",
       "      <td>10.052306</td>\n",
       "      <td>10.042041</td>\n",
       "      <td>50.185674</td>\n",
       "      <td>50.135466</td>\n",
       "      <td>29.994068</td>\n",
       "      <td>29.964026</td>\n",
       "    </tr>\n",
       "    <tr>\n",
       "      <th>2</th>\n",
       "      <td>14.037025</td>\n",
       "      <td>10.049557</td>\n",
       "      <td>50.227926</td>\n",
       "      <td>29.999978</td>\n",
       "      <td>14.011200</td>\n",
       "      <td>10.059844</td>\n",
       "      <td>50.201010</td>\n",
       "      <td>29.988586</td>\n",
       "      <td>14.013386</td>\n",
       "      <td>10.062034</td>\n",
       "      <td>...</td>\n",
       "      <td>50.152957</td>\n",
       "      <td>29.960765</td>\n",
       "      <td>14.001438</td>\n",
       "      <td>13.987317</td>\n",
       "      <td>10.052109</td>\n",
       "      <td>10.041844</td>\n",
       "      <td>50.173066</td>\n",
       "      <td>50.122858</td>\n",
       "      <td>29.970792</td>\n",
       "      <td>29.940749</td>\n",
       "    </tr>\n",
       "  </tbody>\n",
       "</table>\n",
       "<p>3 rows × 24 columns</p>\n",
       "</div>"
      ],
      "text/plain": [
       "    length_1   length_2    width_1      dia_1  err_length_1  err_length_2  \\\n",
       "0  14.022714  10.049974  50.226676  29.999954     14.013264     10.054659   \n",
       "1  14.029784  10.048365  50.232465  29.999925     14.023953     10.060041   \n",
       "2  14.037025  10.049557  50.227926  29.999978     14.011200     10.059844   \n",
       "\n",
       "   err_width_1  err_dia_1  bias_length_1  bias_length_2    ...      \\\n",
       "0    50.196985  30.010146      14.015450      10.056849    ...       \n",
       "1    50.213631  30.011886      14.026139      10.062231    ...       \n",
       "2    50.201010  29.988586      14.013386      10.062034    ...       \n",
       "\n",
       "   Temp_width_1  Temp_dia_1  posulength_1  negulength_1  posulength_2  \\\n",
       "0     50.148935   29.982304     14.003499     13.989379     10.046930   \n",
       "1     50.165565   29.984042     14.014178     14.000058     10.052306   \n",
       "2     50.152957   29.960765     14.001438     13.987317     10.052109   \n",
       "\n",
       "   negulength_2  posuwidth_1  neguwidth_1  posudia_1  negudia_1  \n",
       "0     10.036664    50.169044    50.118836  29.992330  29.962288  \n",
       "1     10.042041    50.185674    50.135466  29.994068  29.964026  \n",
       "2     10.041844    50.173066    50.122858  29.970792  29.940749  \n",
       "\n",
       "[3 rows x 24 columns]"
      ]
     },
     "execution_count": 226,
     "metadata": {},
     "output_type": "execute_result"
    }
   ],
   "source": [
    "Temp_length_1 = length_1 * sc_factor\n",
    "Temp_length_2 = length_2 * sc_factor\n",
    "Temp_width_1 = width_1 * sc_factor\n",
    "Temp_dia_1 = dia_1 * sc_factor\n",
    "posulength_1 = Temp_length_1 + ulength_1\n",
    "negulength_1 = Temp_length_1 - ulength_1\n",
    "posulength_2 = Temp_length_2 + ulength_2\n",
    "negulength_2 = Temp_length_2 - ulength_2\n",
    "posuwidth_1 = Temp_width_1 + uwidth_1\n",
    "neguwidth_1 = Temp_width_1 - uwidth_1\n",
    "posudia_1 = Temp_dia_1 + udia_1\n",
    "negudia_1 = Temp_dia_1 - udia_1\n",
    "\n",
    "\n",
    "df8 = pd.DataFrame({'posulength_1':Temp_length_1 + ulength_1,'negulength_1':Temp_length_1 - ulength_1,'posulength_2':Temp_length_2 + ulength_2,'negulength_2':Temp_length_2 - ulength_2, 'posuwidth_1':Temp_width_1 + uwidth_1,'neguwidth_1':Temp_width_1 - uwidth_1,'posudia_1':Temp_dia_1 + udia_1,'negudia_1':Temp_dia_1 - udia_1}, index=range(0,100))\n",
    "\n",
    "df9 = pd.concat([df7,df8], axis=1)\n",
    "df9.head(3)"
   ]
  },
  {
   "cell_type": "code",
   "execution_count": 227,
   "metadata": {},
   "outputs": [
    {
     "data": {
      "image/png": "[encoded data removed]",
      "text/plain": [
       "<Figure size 432x288 with 1 Axes>"
      ]
     },
     "metadata": {
      "needs_background": "light"
     },
     "output_type": "display_data"
    }
   ],
   "source": [
    "import numpy as np\n",
    "import matplotlib.pyplot as plt\n",
    "\n",
    "data = length_1, bias_length_1, Temp_length_1,posulength_1, negulength_1\n",
    "plt.boxplot(data, showfliers=True, widths =(0.67))\n",
    "plt.title('Tolerance: 14.010 +/- 0.020')\n",
    "plt.show()"
   ]
  },
  {
   "cell_type": "code",
   "execution_count": 228,
   "metadata": {},
   "outputs": [
    {
     "data": {
      "image/png": "[encoded data removed]",
      "text/plain": [
       "<Figure size 432x288 with 1 Axes>"
      ]
     },
     "metadata": {
      "needs_background": "light"
     },
     "output_type": "display_data"
    }
   ],
   "source": [
    "import numpy as np\n",
    "import matplotlib.pyplot as plt\n",
    "\n",
    "data2 = length_2, bias_length_2, Temp_length_2, posulength_2, negulength_2\n",
    "plt.boxplot(data2,showfliers=True, widths =(0.67))\n",
    "plt.title('Tolerance: 10.050 +/- 0.050')\n",
    "plt.show()"
   ]
  },
  {
   "cell_type": "code",
   "execution_count": 229,
   "metadata": {},
   "outputs": [
    {
     "data": {
      "image/png": "[encoded data removed]",
      "text/plain": [
       "<Figure size 432x288 with 1 Axes>"
      ]
     },
     "metadata": {
      "needs_background": "light"
     },
     "output_type": "display_data"
    }
   ],
   "source": [
    "import numpy as np\n",
    "import matplotlib.pyplot as plt\n",
    "\n",
    "data3 = width_1, bias_width_1, Temp_width_1, posuwidth_1, neguwidth_1\n",
    "plt.boxplot(data3, showfliers=True, widths =(0.67))\n",
    "plt.title('Tolerance: 50.200 +/- 0.100')\n",
    "plt.show()"
   ]
  },
  {
   "cell_type": "code",
   "execution_count": 230,
   "metadata": {},
   "outputs": [
    {
     "data": {
      "image/png": "[encoded data removed]",
      "text/plain": [
       "<Figure size 432x288 with 1 Axes>"
      ]
     },
     "metadata": {
      "needs_background": "light"
     },
     "output_type": "display_data"
    }
   ],
   "source": [
    "import numpy as np\n",
    "import matplotlib.pyplot as plt\n",
    "\n",
    "data4 = dia_1, bias_dia_1, Temp_dia_1, posudia_1, negudia_1\n",
    "plt.boxplot(data4, showfliers=True, widths =(0.67))\n",
    "plt.title('Tolerance: 30.000 +/- 0.070')\n",
    "plt.show()"
   ]
  },
  {
   "cell_type": "markdown",
   "metadata": {},
   "source": [
    "## Are the components good or bad ?"
   ]
  },
  {
   "cell_type": "markdown",
   "metadata": {},
   "source": [
    "It's quite likely that the components are out of specification. When the uncertainty is factored in (assuming the measurement system is actually using all of its uncertainty) you can see from the box plots that the component will be out of specification, even though the result can appear in specification. This measurement system needs to be improved before it can continue to classify components as 'good' or 'bad'.  "
   ]
  },
  {
   "cell_type": "markdown",
   "metadata": {},
   "source": [
    "### Wait - What do you mean good or bad?"
   ]
  },
  {
   "cell_type": "markdown",
   "metadata": {},
   "source": [
    "Well, if you just took the accuracy alone and compared it to tolerance you would get 1% misclassification chance according to ISO 10012 and ASME Z.54 standards."
   ]
  },
  {
   "cell_type": "code",
   "execution_count": 231,
   "metadata": {},
   "outputs": [
    {
     "name": "stdout",
     "output_type": "stream",
     "text": [
      "Percentage Tolerance Consumed = 14.1\n",
      "Accuracy to Tolerance Ratio = 7.1\n"
     ]
    }
   ],
   "source": [
    "error = (err_length_1/0.020)*100\n",
    "print('Percentage Tolerance Consumed = '\"%.1f\" % error)\n",
    "\n",
    "ratio = (0.020/err_length_1)\n",
    "print ('Accuracy to Tolerance Ratio = '\"%.1f\" % ratio)"
   ]
  },
  {
   "cell_type": "markdown",
   "metadata": {},
   "source": [
    "At this point would think that's not bad - this instrument is good enough for the job because of root sum square theory: 7:1 = 7 +/-1 with an actual value = 6 or 8 and an expanded value = 8\n"
   ]
  },
  {
   "cell_type": "code",
   "execution_count": 232,
   "metadata": {},
   "outputs": [
    {
     "name": "stdout",
     "output_type": "stream",
     "text": [
      "Percentage Risk of Misclassification = 1.0\n"
     ]
    }
   ],
   "source": [
    "value = 7\n",
    "actual = math.sqrt(7**2 + 1**2)\n",
    "\n",
    "percent_risk = ((actual-value)/value) *100\n",
    "print('Percentage Risk of Misclassification = '\"%.1f\" % percent_risk)"
   ]
  },
  {
   "cell_type": "markdown",
   "metadata": {},
   "source": [
    "But now if you take uncertainty you would get:"
   ]
  },
  {
   "cell_type": "code",
   "execution_count": 233,
   "metadata": {},
   "outputs": [
    {
     "name": "stdout",
     "output_type": "stream",
     "text": [
      "Percentage Tolerance Consumed = 35.3\n",
      "Uncertainty to Tolerance Ratio = 2.8\n"
     ]
    }
   ],
   "source": [
    "error = (ulength_1/0.020)*100\n",
    "print('Percentage Tolerance Consumed = '\"%.1f\" % error)\n",
    "\n",
    "ratio = (0.020/ulength_1)\n",
    "print ('Uncertainty to Tolerance Ratio = '\"%.1f\" % ratio)"
   ]
  },
  {
   "cell_type": "code",
   "execution_count": null,
   "metadata": {},
   "outputs": [],
   "source": []
  }
 ],
 "metadata": {
  "kernelspec": {
   "display_name": "Python 3",
   "language": "python",
   "name": "python3"
  },
  "language_info": {
   "codemirror_mode": {
    "name": "ipython",
    "version": 3
   },
   "file_extension": ".py",
   "mimetype": "text/x-python",
   "name": "python",
   "nbconvert_exporter": "python",
   "pygments_lexer": "ipython3",
   "version": "3.6.6"
  }
 },
 "nbformat": 4,
 "nbformat_minor": 2
}
