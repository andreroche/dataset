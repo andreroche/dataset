{
 "cells": [
  {
   "cell_type": "markdown",
   "metadata": {},
   "source": [
    "## Background"
   ]
  },
  {
   "cell_type": "markdown",
   "metadata": {},
   "source": [
    "Uncertainty is a facininating concept. It is extremely vast and applies to almost all aspects of life. You could spend your entire life learning about it and still not understand all of it.\n",
    "Uncertainty is everywhere, in everything we do. For example, uncertainty affects the economy in many ways. Peoples attitude to spending are usually based on their level of confidence in the economy. Uncertainty of our future climate drives us to recycle more, burn more efficient fuel, reduce our emmisions and respect the environment. In a sense, it is almost motivational as once we are aware of something, we typically strive to improve it.\n",
    "In science, we frequently measure or observe things. We do this so that we can understand them better. By putting a measure on something it allows us to describe something, to visualise it or to comprehend it. Humans will design an experiment or build a model to test or measure a phenomenon and uncertainty will be the measure of the doubt that exists about the result or prediction. "
   ]
  },
  {
   "cell_type": "markdown",
   "metadata": {},
   "source": [
    "## Project - Dataset"
   ]
  },
  {
   "cell_type": "markdown",
   "metadata": {},
   "source": [
    "This project will focus on the field of dimensional metrology and more specifically, measurement systems. A measurement system might be described as a system encompassing the measuring instrument, the software, firmware, people/users, environment, method and the articles that they inspect. When designing a measurement system many aspects must be considered but ultimately the system should have an acceptable accuracy and variance for what it is designed to inspect. In conjunction with this, each measurement result should be accompanied by an uncertainty value since no measurement is ever perfect. When a measurement is taken, many phenomena can occur to influence that result and generally speaking that influence could be captured in the overall uncertainty. Estimating this uncertainy, it is possible to mitigate for the risk of misclassification based off results/observations made.         "
   ]
  },
  {
   "cell_type": "markdown",
   "metadata": {},
   "source": [
    "## Scenario"
   ]
  },
  {
   "cell_type": "markdown",
   "metadata": {},
   "source": [
    "You are asked to provide consultation to an aerospace company that manufactures a component. Post manufacture it inspects each component dimensionally to ensure it meets design intent/criteria. The component itself has 4 geometric features that must be verified through inspection, each having a nominal size and an associated tolerance. A measurement system is used to inspect the components to meet volume requirements. There is an issue with this component when it comes to final assembly. It is not fitting with other components at the final assembly plant located in another country. The equipment was installed correctly, has all the necessary certified paperwork and is passing its daily qualification checks. What is going on?\n",
    "\n",
    "The brief of the project is to create a synthetic dataset. This dataset will attempt to capture what the above situation might look like (in a fairly simplistic approach with assumptions) if it were a real investigation of the measurement phenomenon and try to answer some additional questions along the way."
   ]
  },
  {
   "cell_type": "markdown",
   "metadata": {},
   "source": [
    "## Investigation"
   ]
  },
  {
   "cell_type": "markdown",
   "metadata": {},
   "source": [
    "Investigation starts with the component. It has four geometric features that are inspected. They are relatively simple in terms of geometric complexity. Two features are lengths, one is a width and other is a diameter. There are no complex surfaces or advanced geometric constraints to be inspected.\n",
    "\n",
    "The features are:\n",
    "\n",
    "length_1 is 14.010mm +/- 0.020: length_2 is 10.050mm +/- 0.050: width_1 is  50.200mm +/- 0.100: Dia_1 is 30.000mm +/- 0.070\n",
    "\n",
    "Instruments:\n",
    "\n",
    "It was found that the instrument is a coordinate measuring machines, often referred to as 'CMM's'. For now lets call it instrument_1\n",
    "It has a calibration certificate stating the equipments maximum permissable error for error of length indication. After speaking with the OEM, it is understood that this is essentially an accuracy statement for the equipment when measuring length type features.\n",
    "\n",
    "It is stated in linear type form:  MPEE  = X + L/K   where X and K are constants. (x = um, L = mm, K = no units)\n",
    "\n",
    "instrument_1 = 2.8 + L/1000 (result is in microns)\n",
    "\n",
    "\n",
    "\n",
    "The certificate shows that instrument_1 was verified but not calibrated and 2 months ago. It is noted that instrument_1 has a negative bias of 0.1mm. As it was only verified and not calibrated, no adjustment was made for this. The instrument does not exibit any other systematic errors.\n",
    "The verification stated a verification uncertainty of 0.1% of mean readings.\n",
    "\n",
    "\n",
    "Users:\n",
    "\n",
    "Looking at user of the measurement system, It was discovered that one operator was responsible for running the system.\n",
    "\n",
    "Mary ran instrument_1 and was quite experienced. A standardised method for use of the equipment was also in place. \n",
    "\n",
    "\n",
    "Environment:\n",
    "\n",
    "instrument_1 was located in a temperature controlled room cerified at 19-21 deg C. However, the climate control was malfunctioning and the temperature was found to be at a static 25 Deg C.\n"
   ]
  },
  {
   "cell_type": "markdown",
   "metadata": {},
   "source": [
    "## Summary of Investigation"
   ]
  },
  {
   "cell_type": "markdown",
   "metadata": {},
   "source": [
    "After further investigation I decide the following:\n",
    "\n",
    "(1) I need to pull some previous data on measurements and review the results for each feature (2) I need to calculate what the likely instrument error is for measurements of each feature (3) I need to compensate for bias in the equipment (4) I need to investigate the effects of temperature (5) estimate any likely variance (6) estimate what the overall uncertainty might be and (7) analyse the data and generate any conclusions.  "
   ]
  },
  {
   "cell_type": "markdown",
   "metadata": {},
   "source": [
    "## Simulating the results from 100 components"
   ]
  },
  {
   "cell_type": "markdown",
   "metadata": {},
   "source": [
    "I would expect the results to be normally distributed for each feature. I'm going to make a few assumptions here. Having reviewed the measurment results I found that length_1 and width_1 were manufactured above centre/target nominal. The other features were relatively centred on nominal. All data should be floating point numbers and should be positive values based on the specifications above."
   ]
  },
  {
   "cell_type": "code",
   "execution_count": 12,
   "metadata": {
    "scrolled": true
   },
   "outputs": [
    {
     "data": {
      "text/html": [
       "<div>\n",
       "<style scoped>\n",
       "    .dataframe tbody tr th:only-of-type {\n",
       "        vertical-align: middle;\n",
       "    }\n",
       "\n",
       "    .dataframe tbody tr th {\n",
       "        vertical-align: top;\n",
       "    }\n",
       "\n",
       "    .dataframe thead th {\n",
       "        text-align: right;\n",
       "    }\n",
       "</style>\n",
       "<table border=\"1\" class=\"dataframe\">\n",
       "  <thead>\n",
       "    <tr style=\"text-align: right;\">\n",
       "      <th></th>\n",
       "      <th>length_1</th>\n",
       "      <th>length_2</th>\n",
       "      <th>width_1</th>\n",
       "      <th>dia_1</th>\n",
       "    </tr>\n",
       "  </thead>\n",
       "  <tbody>\n",
       "    <tr>\n",
       "      <th>0</th>\n",
       "      <td>14.033951</td>\n",
       "      <td>10.050495</td>\n",
       "      <td>50.223383</td>\n",
       "      <td>30.000126</td>\n",
       "    </tr>\n",
       "    <tr>\n",
       "      <th>1</th>\n",
       "      <td>14.029710</td>\n",
       "      <td>10.049493</td>\n",
       "      <td>50.228673</td>\n",
       "      <td>30.000003</td>\n",
       "    </tr>\n",
       "    <tr>\n",
       "      <th>2</th>\n",
       "      <td>14.016408</td>\n",
       "      <td>10.050807</td>\n",
       "      <td>50.225163</td>\n",
       "      <td>29.999913</td>\n",
       "    </tr>\n",
       "  </tbody>\n",
       "</table>\n",
       "</div>"
      ],
      "text/plain": [
       "    length_1   length_2    width_1      dia_1\n",
       "0  14.033951  10.050495  50.223383  30.000126\n",
       "1  14.029710  10.049493  50.228673  30.000003\n",
       "2  14.016408  10.050807  50.225163  29.999913"
      ]
     },
     "execution_count": 12,
     "metadata": {},
     "output_type": "execute_result"
    }
   ],
   "source": [
    "import pandas as pd\n",
    "import numpy as np\n",
    "import matplotlib.pyplot as plt\n",
    "import seaborn as sns\n",
    "from scipy import stats\n",
    "%matplotlib inline\n",
    "\n",
    "\n",
    "#define the features, 100 samples each having different stdev and means\n",
    "length_1 = np.random.normal(14.011, 0.005, 100)\n",
    "length_2 = np.random.normal(10.050, 0.0004, 100)\n",
    "width_1 = np.random.normal(50.210, 0.004, 100)\n",
    "dia_1 = np.random.normal(30.000, 0.0001, 100)\n",
    "\n",
    "# type 'variable name' to view the array of data. I just don't need to see it yet\n",
    "\n",
    "df = pd.DataFrame({'length_1':np.random.normal(14.027, 0.005, 100),'length_2':np.random.normal(10.050, 0.001, 100),'width_1':np.random.normal(50.228, 0.003, 100),'dia_1':np.random.normal(30.000, 0.0001, 100)}) \n",
    "\n",
    "df.head(3)\n",
    "#can use df.head() to free up screen space\n"
   ]
  },
  {
   "cell_type": "code",
   "execution_count": 13,
   "metadata": {},
   "outputs": [
    {
     "data": {
      "image/png": "[encoded data removed]",
      "text/plain": [
       "<Figure size 432x288 with 4 Axes>"
      ]
     },
     "metadata": {
      "needs_background": "light"
     },
     "output_type": "display_data"
    }
   ],
   "source": [
    "# a quick visual check of the data in the dataframe using pandas.\n",
    "hist = df.hist(bins=15)\n"
   ]
  },
  {
   "cell_type": "markdown",
   "metadata": {},
   "source": [
    "## Instrument Accuracy\n"
   ]
  },
  {
   "cell_type": "code",
   "execution_count": 14,
   "metadata": {},
   "outputs": [
    {
     "name": "stdout",
     "output_type": "stream",
     "text": [
      "Approximate Error is\n",
      "0.014009999999999856 0.010050000000000114 0.0501999999999998 0.010050000000000114\n"
     ]
    }
   ],
   "source": [
    "mpe = 2.8\n",
    "err_length_1 = ((2.8 + 14.010/1000) - mpe)\n",
    "err_length_2 = ((2.8 + 10.050/1000) - mpe)\n",
    "err_width_1 = ((2.8 + 50.200/1000) - mpe)\n",
    "err_dia_1 = ((2.8 + 30.000/1000) - mpe)\n",
    "\n",
    "print(\"Approximate Error is\")\n",
    "print(err_length_1, err_length_2, err_width_1, err_length_2)"
   ]
  },
  {
   "cell_type": "markdown",
   "metadata": {},
   "source": [
    "This gives me an idea of the likely accuracy associated with each feature when using this specific instrument. It's a first step in looking for any potential misclassification issues but it doesn't tell the entire story. Since the parts are not actually all the same length maybe a better way to estimate this would be to apply the formula to each result obtained in the 100 samples and then add that (or take away) to either the same dataframe or a seperate one and then join them. For the purpose of this exercise, lets assume that i'm only interested in the positive error since the components are not fitting in final assembly and it is assumed they are too large."
   ]
  },
  {
   "cell_type": "code",
   "execution_count": 15,
   "metadata": {},
   "outputs": [
    {
     "data": {
      "text/html": [
       "<div>\n",
       "<style scoped>\n",
       "    .dataframe tbody tr th:only-of-type {\n",
       "        vertical-align: middle;\n",
       "    }\n",
       "\n",
       "    .dataframe tbody tr th {\n",
       "        vertical-align: top;\n",
       "    }\n",
       "\n",
       "    .dataframe thead th {\n",
       "        text-align: right;\n",
       "    }\n",
       "</style>\n",
       "<table border=\"1\" class=\"dataframe\">\n",
       "  <thead>\n",
       "    <tr style=\"text-align: right;\">\n",
       "      <th></th>\n",
       "      <th>err_length_1</th>\n",
       "      <th>err_length_2</th>\n",
       "      <th>err_width_1</th>\n",
       "      <th>err_dia_1</th>\n",
       "    </tr>\n",
       "  </thead>\n",
       "  <tbody>\n",
       "    <tr>\n",
       "      <th>0</th>\n",
       "      <td>14.028993</td>\n",
       "      <td>10.059389</td>\n",
       "      <td>50.259278</td>\n",
       "      <td>30.029983</td>\n",
       "    </tr>\n",
       "    <tr>\n",
       "      <th>1</th>\n",
       "      <td>14.021673</td>\n",
       "      <td>10.060371</td>\n",
       "      <td>50.262617</td>\n",
       "      <td>30.029919</td>\n",
       "    </tr>\n",
       "    <tr>\n",
       "      <th>2</th>\n",
       "      <td>14.019151</td>\n",
       "      <td>10.060030</td>\n",
       "      <td>50.261258</td>\n",
       "      <td>30.029979</td>\n",
       "    </tr>\n",
       "  </tbody>\n",
       "</table>\n",
       "</div>"
      ],
      "text/plain": [
       "   err_length_1  err_length_2  err_width_1  err_dia_1\n",
       "0     14.028993     10.059389    50.259278  30.029983\n",
       "1     14.021673     10.060371    50.262617  30.029919\n",
       "2     14.019151     10.060030    50.261258  30.029979"
      ]
     },
     "execution_count": 15,
     "metadata": {},
     "output_type": "execute_result"
    }
   ],
   "source": [
    "df1 = pd.DataFrame({'err_length_1':err_length_1 + length_1,'err_length_2':err_length_2 + length_2,'err_width_1':err_width_1 + width_1,'err_dia_1':err_dia_1 + dia_1})\n",
    "df1.head(3)"
   ]
  },
  {
   "cell_type": "code",
   "execution_count": null,
   "metadata": {},
   "outputs": [],
   "source": []
  },
  {
   "cell_type": "code",
   "execution_count": 16,
   "metadata": {},
   "outputs": [
    {
     "data": {
      "text/html": [
       "<div>\n",
       "<style scoped>\n",
       "    .dataframe tbody tr th:only-of-type {\n",
       "        vertical-align: middle;\n",
       "    }\n",
       "\n",
       "    .dataframe tbody tr th {\n",
       "        vertical-align: top;\n",
       "    }\n",
       "\n",
       "    .dataframe thead th {\n",
       "        text-align: right;\n",
       "    }\n",
       "</style>\n",
       "<table border=\"1\" class=\"dataframe\">\n",
       "  <thead>\n",
       "    <tr style=\"text-align: right;\">\n",
       "      <th></th>\n",
       "      <th>length_1</th>\n",
       "      <th>length_2</th>\n",
       "      <th>width_1</th>\n",
       "      <th>dia_1</th>\n",
       "      <th>err_length_1</th>\n",
       "      <th>err_length_2</th>\n",
       "      <th>err_width_1</th>\n",
       "      <th>err_dia_1</th>\n",
       "    </tr>\n",
       "  </thead>\n",
       "  <tbody>\n",
       "    <tr>\n",
       "      <th>0</th>\n",
       "      <td>14.033951</td>\n",
       "      <td>10.050495</td>\n",
       "      <td>50.223383</td>\n",
       "      <td>30.000126</td>\n",
       "      <td>14.028993</td>\n",
       "      <td>10.059389</td>\n",
       "      <td>50.259278</td>\n",
       "      <td>30.029983</td>\n",
       "    </tr>\n",
       "    <tr>\n",
       "      <th>1</th>\n",
       "      <td>14.029710</td>\n",
       "      <td>10.049493</td>\n",
       "      <td>50.228673</td>\n",
       "      <td>30.000003</td>\n",
       "      <td>14.021673</td>\n",
       "      <td>10.060371</td>\n",
       "      <td>50.262617</td>\n",
       "      <td>30.029919</td>\n",
       "    </tr>\n",
       "    <tr>\n",
       "      <th>2</th>\n",
       "      <td>14.016408</td>\n",
       "      <td>10.050807</td>\n",
       "      <td>50.225163</td>\n",
       "      <td>29.999913</td>\n",
       "      <td>14.019151</td>\n",
       "      <td>10.060030</td>\n",
       "      <td>50.261258</td>\n",
       "      <td>30.029979</td>\n",
       "    </tr>\n",
       "  </tbody>\n",
       "</table>\n",
       "</div>"
      ],
      "text/plain": [
       "    length_1   length_2    width_1      dia_1  err_length_1  err_length_2  \\\n",
       "0  14.033951  10.050495  50.223383  30.000126     14.028993     10.059389   \n",
       "1  14.029710  10.049493  50.228673  30.000003     14.021673     10.060371   \n",
       "2  14.016408  10.050807  50.225163  29.999913     14.019151     10.060030   \n",
       "\n",
       "   err_width_1  err_dia_1  \n",
       "0    50.259278  30.029983  \n",
       "1    50.262617  30.029919  \n",
       "2    50.261258  30.029979  "
      ]
     },
     "execution_count": 16,
     "metadata": {},
     "output_type": "execute_result"
    }
   ],
   "source": [
    "left = df\n",
    "right = df1\n",
    "df3 = pd.concat([df,df1], axis=1)\n",
    "df3.head(3)"
   ]
  },
  {
   "cell_type": "markdown",
   "metadata": {},
   "source": [
    "## Bias"
   ]
  },
  {
   "cell_type": "markdown",
   "metadata": {},
   "source": [
    "As mentioned earlier the calibration certificate stated a negative systematic error of 5.0um or 0.005mm. The instrument was falsely reading 0.005 too low. This will have to be added to dataset."
   ]
  },
  {
   "cell_type": "code",
   "execution_count": 17,
   "metadata": {},
   "outputs": [
    {
     "data": {
      "text/html": [
       "<div>\n",
       "<style scoped>\n",
       "    .dataframe tbody tr th:only-of-type {\n",
       "        vertical-align: middle;\n",
       "    }\n",
       "\n",
       "    .dataframe tbody tr th {\n",
       "        vertical-align: top;\n",
       "    }\n",
       "\n",
       "    .dataframe thead th {\n",
       "        text-align: right;\n",
       "    }\n",
       "</style>\n",
       "<table border=\"1\" class=\"dataframe\">\n",
       "  <thead>\n",
       "    <tr style=\"text-align: right;\">\n",
       "      <th></th>\n",
       "      <th>bias_length_1</th>\n",
       "      <th>bias_length_2</th>\n",
       "      <th>bias_width_1</th>\n",
       "      <th>bias_dia_1</th>\n",
       "    </tr>\n",
       "  </thead>\n",
       "  <tbody>\n",
       "    <tr>\n",
       "      <th>0</th>\n",
       "      <td>14.114983</td>\n",
       "      <td>10.149339</td>\n",
       "      <td>50.309078</td>\n",
       "      <td>30.099983</td>\n",
       "    </tr>\n",
       "    <tr>\n",
       "      <th>1</th>\n",
       "      <td>14.107663</td>\n",
       "      <td>10.150321</td>\n",
       "      <td>50.312417</td>\n",
       "      <td>30.099919</td>\n",
       "    </tr>\n",
       "    <tr>\n",
       "      <th>2</th>\n",
       "      <td>14.105141</td>\n",
       "      <td>10.149980</td>\n",
       "      <td>50.311058</td>\n",
       "      <td>30.099979</td>\n",
       "    </tr>\n",
       "  </tbody>\n",
       "</table>\n",
       "</div>"
      ],
      "text/plain": [
       "   bias_length_1  bias_length_2  bias_width_1  bias_dia_1\n",
       "0      14.114983      10.149339     50.309078   30.099983\n",
       "1      14.107663      10.150321     50.312417   30.099919\n",
       "2      14.105141      10.149980     50.311058   30.099979"
      ]
     },
     "execution_count": 17,
     "metadata": {},
     "output_type": "execute_result"
    }
   ],
   "source": [
    "bias = 0.100\n",
    "df4 = df1 = pd.DataFrame({'bias_length_1':length_1 + bias,'bias_length_2':length_2 + bias,'bias_width_1':width_1 + bias,'bias_dia_1':dia_1 + bias})\n",
    "df4.head(3)"
   ]
  },
  {
   "cell_type": "code",
   "execution_count": 18,
   "metadata": {},
   "outputs": [
    {
     "data": {
      "text/html": [
       "<div>\n",
       "<style scoped>\n",
       "    .dataframe tbody tr th:only-of-type {\n",
       "        vertical-align: middle;\n",
       "    }\n",
       "\n",
       "    .dataframe tbody tr th {\n",
       "        vertical-align: top;\n",
       "    }\n",
       "\n",
       "    .dataframe thead th {\n",
       "        text-align: right;\n",
       "    }\n",
       "</style>\n",
       "<table border=\"1\" class=\"dataframe\">\n",
       "  <thead>\n",
       "    <tr style=\"text-align: right;\">\n",
       "      <th></th>\n",
       "      <th>length_1</th>\n",
       "      <th>length_2</th>\n",
       "      <th>width_1</th>\n",
       "      <th>dia_1</th>\n",
       "      <th>err_length_1</th>\n",
       "      <th>err_length_2</th>\n",
       "      <th>err_width_1</th>\n",
       "      <th>err_dia_1</th>\n",
       "      <th>bias_length_1</th>\n",
       "      <th>bias_length_2</th>\n",
       "      <th>bias_width_1</th>\n",
       "      <th>bias_dia_1</th>\n",
       "    </tr>\n",
       "  </thead>\n",
       "  <tbody>\n",
       "    <tr>\n",
       "      <th>0</th>\n",
       "      <td>14.033951</td>\n",
       "      <td>10.050495</td>\n",
       "      <td>50.223383</td>\n",
       "      <td>30.000126</td>\n",
       "      <td>14.028993</td>\n",
       "      <td>10.059389</td>\n",
       "      <td>50.259278</td>\n",
       "      <td>30.029983</td>\n",
       "      <td>14.114983</td>\n",
       "      <td>10.149339</td>\n",
       "      <td>50.309078</td>\n",
       "      <td>30.099983</td>\n",
       "    </tr>\n",
       "    <tr>\n",
       "      <th>1</th>\n",
       "      <td>14.029710</td>\n",
       "      <td>10.049493</td>\n",
       "      <td>50.228673</td>\n",
       "      <td>30.000003</td>\n",
       "      <td>14.021673</td>\n",
       "      <td>10.060371</td>\n",
       "      <td>50.262617</td>\n",
       "      <td>30.029919</td>\n",
       "      <td>14.107663</td>\n",
       "      <td>10.150321</td>\n",
       "      <td>50.312417</td>\n",
       "      <td>30.099919</td>\n",
       "    </tr>\n",
       "    <tr>\n",
       "      <th>2</th>\n",
       "      <td>14.016408</td>\n",
       "      <td>10.050807</td>\n",
       "      <td>50.225163</td>\n",
       "      <td>29.999913</td>\n",
       "      <td>14.019151</td>\n",
       "      <td>10.060030</td>\n",
       "      <td>50.261258</td>\n",
       "      <td>30.029979</td>\n",
       "      <td>14.105141</td>\n",
       "      <td>10.149980</td>\n",
       "      <td>50.311058</td>\n",
       "      <td>30.099979</td>\n",
       "    </tr>\n",
       "  </tbody>\n",
       "</table>\n",
       "</div>"
      ],
      "text/plain": [
       "    length_1   length_2    width_1      dia_1  err_length_1  err_length_2  \\\n",
       "0  14.033951  10.050495  50.223383  30.000126     14.028993     10.059389   \n",
       "1  14.029710  10.049493  50.228673  30.000003     14.021673     10.060371   \n",
       "2  14.016408  10.050807  50.225163  29.999913     14.019151     10.060030   \n",
       "\n",
       "   err_width_1  err_dia_1  bias_length_1  bias_length_2  bias_width_1  \\\n",
       "0    50.259278  30.029983      14.114983      10.149339     50.309078   \n",
       "1    50.262617  30.029919      14.107663      10.150321     50.312417   \n",
       "2    50.261258  30.029979      14.105141      10.149980     50.311058   \n",
       "\n",
       "   bias_dia_1  \n",
       "0   30.099983  \n",
       "1   30.099919  \n",
       "2   30.099979  "
      ]
     },
     "execution_count": 18,
     "metadata": {},
     "output_type": "execute_result"
    }
   ],
   "source": [
    "df5 = pd.concat([df3,df4], axis=1)\n",
    "df5.head(3)"
   ]
  },
  {
   "cell_type": "markdown",
   "metadata": {},
   "source": [
    "## Temperature"
   ]
  },
  {
   "cell_type": "markdown",
   "metadata": {},
   "source": [
    "The temperature was found to be 25 deg C. That was being measured by a piece of equipment with an accuracy of +/- 1 degree so it's likely that the temperature was between 24-26 degrees C."
   ]
  },
  {
   "cell_type": "code",
   "execution_count": 20,
   "metadata": {},
   "outputs": [
    {
     "data": {
      "image/png": "[encoded data removed]",
      "text/plain": [
       "<Figure size 432x288 with 1 Axes>"
      ]
     },
     "metadata": {
      "needs_background": "light"
     },
     "output_type": "display_data"
    },
    {
     "data": {
      "text/html": [
       "<div>\n",
       "<style scoped>\n",
       "    .dataframe tbody tr th:only-of-type {\n",
       "        vertical-align: middle;\n",
       "    }\n",
       "\n",
       "    .dataframe tbody tr th {\n",
       "        vertical-align: top;\n",
       "    }\n",
       "\n",
       "    .dataframe thead th {\n",
       "        text-align: right;\n",
       "    }\n",
       "</style>\n",
       "<table border=\"1\" class=\"dataframe\">\n",
       "  <thead>\n",
       "    <tr style=\"text-align: right;\">\n",
       "      <th></th>\n",
       "      <th>Temp_length_1</th>\n",
       "      <th>Temp_length_2</th>\n",
       "      <th>Temp_width_1</th>\n",
       "      <th>Temp_dia_1</th>\n",
       "    </tr>\n",
       "  </thead>\n",
       "  <tbody>\n",
       "    <tr>\n",
       "      <th>0</th>\n",
       "      <td>14.000968</td>\n",
       "      <td>10.03929</td>\n",
       "      <td>50.158869</td>\n",
       "      <td>29.969983</td>\n",
       "    </tr>\n",
       "    <tr>\n",
       "      <th>1</th>\n",
       "      <td>13.993655</td>\n",
       "      <td>10.04027</td>\n",
       "      <td>50.162205</td>\n",
       "      <td>29.969919</td>\n",
       "    </tr>\n",
       "    <tr>\n",
       "      <th>2</th>\n",
       "      <td>13.991136</td>\n",
       "      <td>10.03993</td>\n",
       "      <td>50.160847</td>\n",
       "      <td>29.969979</td>\n",
       "    </tr>\n",
       "  </tbody>\n",
       "</table>\n",
       "</div>"
      ],
      "text/plain": [
       "   Temp_length_1  Temp_length_2  Temp_width_1  Temp_dia_1\n",
       "0      14.000968       10.03929     50.158869   29.969983\n",
       "1      13.993655       10.04027     50.162205   29.969919\n",
       "2      13.991136       10.03993     50.160847   29.969979"
      ]
     },
     "execution_count": 20,
     "metadata": {},
     "output_type": "execute_result"
    }
   ],
   "source": [
    "import pandas as pd\n",
    "import numpy as np\n",
    "import matplotlib.pyplot as plt\n",
    "%matplotlib inline\n",
    "\n",
    "temp = np.random.uniform(24,26, 100)\n",
    "#temp\n",
    "count, bins, ignored = plt.hist(temp, 15, density=True)\n",
    "plt.plot(bins, np.ones_like(bins), linewidth=2, color='r')\n",
    "plt.show()\n",
    "\n",
    "df6 = pd.DataFrame({'Temp_length_1':length_1 * 0.999,'Temp_length_2':length_2 * 0.999,'Temp_width_1':width_1 * 0.999,'Temp_dia_1':dia_1 * 0.999})\n",
    "df6.head(3)"
   ]
  },
  {
   "cell_type": "markdown",
   "metadata": {},
   "source": [
    "Temperature compensation can be worked out individually for each measurement. It's fairly complex from what i've researched in that both the equipment and the article under inspection change due to temperature, at different rates and often they don't grow or shrink uniformly. Since it is complex, lets assume a scale correction factor is known in this case. The correction scale factor is 0.999 (because the components were oversize). The formula for linear expansion can be seen below. "
   ]
  },
  {
   "cell_type": "markdown",
   "metadata": {},
   "source": [
    "$$\\Delta L = Lo * \\alpha * \\Delta T$$\n",
    "\n",
    "where \n",
    "Lo = oringinal length, alpha = CTE for material and Delta T = change in temperature from reference 20 Degrees C "
   ]
  },
  {
   "cell_type": "code",
   "execution_count": 21,
   "metadata": {},
   "outputs": [
    {
     "data": {
      "text/html": [
       "<div>\n",
       "<style scoped>\n",
       "    .dataframe tbody tr th:only-of-type {\n",
       "        vertical-align: middle;\n",
       "    }\n",
       "\n",
       "    .dataframe tbody tr th {\n",
       "        vertical-align: top;\n",
       "    }\n",
       "\n",
       "    .dataframe thead th {\n",
       "        text-align: right;\n",
       "    }\n",
       "</style>\n",
       "<table border=\"1\" class=\"dataframe\">\n",
       "  <thead>\n",
       "    <tr style=\"text-align: right;\">\n",
       "      <th></th>\n",
       "      <th>length_1</th>\n",
       "      <th>length_2</th>\n",
       "      <th>width_1</th>\n",
       "      <th>dia_1</th>\n",
       "      <th>err_length_1</th>\n",
       "      <th>err_length_2</th>\n",
       "      <th>err_width_1</th>\n",
       "      <th>err_dia_1</th>\n",
       "      <th>bias_length_1</th>\n",
       "      <th>bias_length_2</th>\n",
       "      <th>bias_width_1</th>\n",
       "      <th>bias_dia_1</th>\n",
       "      <th>Temp_length_1</th>\n",
       "      <th>Temp_length_2</th>\n",
       "      <th>Temp_width_1</th>\n",
       "      <th>Temp_dia_1</th>\n",
       "    </tr>\n",
       "  </thead>\n",
       "  <tbody>\n",
       "    <tr>\n",
       "      <th>0</th>\n",
       "      <td>14.033951</td>\n",
       "      <td>10.050495</td>\n",
       "      <td>50.223383</td>\n",
       "      <td>30.000126</td>\n",
       "      <td>14.028993</td>\n",
       "      <td>10.059389</td>\n",
       "      <td>50.259278</td>\n",
       "      <td>30.029983</td>\n",
       "      <td>14.114983</td>\n",
       "      <td>10.149339</td>\n",
       "      <td>50.309078</td>\n",
       "      <td>30.099983</td>\n",
       "      <td>14.000968</td>\n",
       "      <td>10.03929</td>\n",
       "      <td>50.158869</td>\n",
       "      <td>29.969983</td>\n",
       "    </tr>\n",
       "    <tr>\n",
       "      <th>1</th>\n",
       "      <td>14.029710</td>\n",
       "      <td>10.049493</td>\n",
       "      <td>50.228673</td>\n",
       "      <td>30.000003</td>\n",
       "      <td>14.021673</td>\n",
       "      <td>10.060371</td>\n",
       "      <td>50.262617</td>\n",
       "      <td>30.029919</td>\n",
       "      <td>14.107663</td>\n",
       "      <td>10.150321</td>\n",
       "      <td>50.312417</td>\n",
       "      <td>30.099919</td>\n",
       "      <td>13.993655</td>\n",
       "      <td>10.04027</td>\n",
       "      <td>50.162205</td>\n",
       "      <td>29.969919</td>\n",
       "    </tr>\n",
       "    <tr>\n",
       "      <th>2</th>\n",
       "      <td>14.016408</td>\n",
       "      <td>10.050807</td>\n",
       "      <td>50.225163</td>\n",
       "      <td>29.999913</td>\n",
       "      <td>14.019151</td>\n",
       "      <td>10.060030</td>\n",
       "      <td>50.261258</td>\n",
       "      <td>30.029979</td>\n",
       "      <td>14.105141</td>\n",
       "      <td>10.149980</td>\n",
       "      <td>50.311058</td>\n",
       "      <td>30.099979</td>\n",
       "      <td>13.991136</td>\n",
       "      <td>10.03993</td>\n",
       "      <td>50.160847</td>\n",
       "      <td>29.969979</td>\n",
       "    </tr>\n",
       "  </tbody>\n",
       "</table>\n",
       "</div>"
      ],
      "text/plain": [
       "    length_1   length_2    width_1      dia_1  err_length_1  err_length_2  \\\n",
       "0  14.033951  10.050495  50.223383  30.000126     14.028993     10.059389   \n",
       "1  14.029710  10.049493  50.228673  30.000003     14.021673     10.060371   \n",
       "2  14.016408  10.050807  50.225163  29.999913     14.019151     10.060030   \n",
       "\n",
       "   err_width_1  err_dia_1  bias_length_1  bias_length_2  bias_width_1  \\\n",
       "0    50.259278  30.029983      14.114983      10.149339     50.309078   \n",
       "1    50.262617  30.029919      14.107663      10.150321     50.312417   \n",
       "2    50.261258  30.029979      14.105141      10.149980     50.311058   \n",
       "\n",
       "   bias_dia_1  Temp_length_1  Temp_length_2  Temp_width_1  Temp_dia_1  \n",
       "0   30.099983      14.000968       10.03929     50.158869   29.969983  \n",
       "1   30.099919      13.993655       10.04027     50.162205   29.969919  \n",
       "2   30.099979      13.991136       10.03993     50.160847   29.969979  "
      ]
     },
     "execution_count": 21,
     "metadata": {},
     "output_type": "execute_result"
    }
   ],
   "source": [
    "df7 = pd.concat([df5,df6], axis=1)\n",
    "df7.head(3)"
   ]
  },
  {
   "cell_type": "markdown",
   "metadata": {},
   "source": [
    "So the dataset is almost complete at this stage. It's not completely accurate in it's approach since it's ficticious. The order in which i've created the data might actually have to change for example, should i correct for temperature first then correct for Bias or vice versa and then calulate overall error? In a real situation this would involve some testing of the phenomena but at least i have the code created and as such it's possible to quickly rearrange this data and re-calculate if needed.   "
   ]
  },
  {
   "cell_type": "markdown",
   "metadata": {},
   "source": [
    "## Uncertainty"
   ]
  },
  {
   "cell_type": "markdown",
   "metadata": {},
   "source": [
    "The dataset needs one more column before it's complete. That is an uncertainty estimate. Again, this is synthetic but it is the priciple that is important. We are being asked to determine if the components measured are correct and or determine if they might be out of specification. "
   ]
  },
  {
   "cell_type": "markdown",
   "metadata": {},
   "source": [
    "We now have the data to determine this. We'll need to find our type A uncertainties and Type B uncertainties, get them in the same standard uncertainty and sum them. For example:  "
   ]
  },
  {
   "cell_type": "markdown",
   "metadata": {},
   "source": [
    "Calculating Type A Uncertainty"
   ]
  },
  {
   "cell_type": "markdown",
   "metadata": {},
   "source": [
    "I have taken 100 readings above. They should be corrected before use. I have already corrected for bias and temperature so i will use the mean and standard deviation of the temperature corrected columns in dataframe 7. The formula below shows how to calculate the estimated standard deviation of the mean.It's already created but showing how it would normally be done.\n",
    "\n",
    "$\\frac{S}{\\sqrt{n}}$"
   ]
  },
  {
   "cell_type": "code",
   "execution_count": 52,
   "metadata": {},
   "outputs": [
    {
     "name": "stdout",
     "output_type": "stream",
     "text": [
      "0.0004757102025267085\n",
      "3.909175095650104e-05\n",
      "0.00038157332789353455\n",
      "9.635121018094258e-06\n"
     ]
    }
   ],
   "source": [
    "#np.mean(length_1)\n",
    "#np.std(length_1)\n",
    "\n",
    "import math\n",
    "\n",
    "n=100\n",
    "mean_ft1 = df7['Temp_length_1'].mean()\n",
    "stdev_ft1 = df7['Temp_length_1'].std()\n",
    "\n",
    "mean_ft2 = df7['Temp_length_2'].mean()\n",
    "stdev_ft2 = df7['Temp_length_2'].std()\n",
    "\n",
    "mean_ft3 = df7['Temp_width_1'].mean()\n",
    "stdev_ft3 = df7['Temp_width_1'].std()\n",
    "\n",
    "mean_ft4 = df7['Temp_dia_1'].mean()\n",
    "stdev_ft4 = df7['Temp_dia_1'].std()\n",
    "\n",
    "type_A_length_1 = stdev_ft1/math.sqrt(n)\n",
    "type_A_length_2 = stdev_ft2/math.sqrt(n)\n",
    "type_A_width_1 = stdev_ft3/math.sqrt(n)\n",
    "type_A_dia_1 = stdev_ft4/math.sqrt(n)\n",
    "\n",
    "\n",
    "print(type_A_length_1)\n",
    "print(type_A_length_2)\n",
    "print(type_A_width_1)\n",
    "print(type_A_dia_1)"
   ]
  },
  {
   "cell_type": "code",
   "execution_count": null,
   "metadata": {},
   "outputs": [],
   "source": []
  }
 ],
 "metadata": {
  "kernelspec": {
   "display_name": "Python 3",
   "language": "python",
   "name": "python3"
  },
  "language_info": {
   "codemirror_mode": {
    "name": "ipython",
    "version": 3
   },
   "file_extension": ".py",
   "mimetype": "text/x-python",
   "name": "python",
   "nbconvert_exporter": "python",
   "pygments_lexer": "ipython3",
   "version": "3.6.6"
  }
 },
 "nbformat": 4,
 "nbformat_minor": 2
}
